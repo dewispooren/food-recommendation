{
 "cells": [
  {
   "cell_type": "markdown",
   "metadata": {},
   "source": [
    "# Promiss application 2.0"
   ]
  },
  {
   "cell_type": "markdown",
   "metadata": {},
   "source": [
    "Structure of the jupyter file:\n",
    "    \n",
    "- General functions used to create all dataframes\n",
    "- General functions used in different algorithms\n",
    "- Algorithm: What is the food preference of the user (vegetarian, pescotarian)?\n",
    "- general function used in multiple algorithms to check wheather meal is vega/pesco\n",
    "- Algorithm: Get meal based on protein points\n",
    "- Algorithm: Preset\n",
    "- Algorithm: Core + addition\n",
    "- Algoritme: Association rule learning\n",
    "- Trouble finding a day with input for testing the protein points algorithm? Check here\n",
    "- Evaluation:\n",
    "    - How long is the training period?: Evaluate preset\n",
    "    - Number of clicks evaluation\n",
    "        - Gather days for evaluation\n",
    "        - Amount of clicks new application\n",
    "        - Amount of clicks old application\n",
    "        - Evaluation: T-test + P-value\n"
   ]
  },
  {
   "cell_type": "markdown",
   "metadata": {},
   "source": [
    "### General functions used to create all dataframes"
   ]
  },
  {
   "cell_type": "code",
   "execution_count": 45,
   "metadata": {},
   "outputs": [],
   "source": [
    "import sqlite3\n",
    "import pandas as pd\n",
    "from collections import Counter"
   ]
  },
  {
   "cell_type": "code",
   "execution_count": 46,
   "metadata": {},
   "outputs": [],
   "source": [
    "DATA_PATH = \"/Users/dewispooren/surfdrive/Shared/PROMISS data/Data/\""
   ]
  },
  {
   "cell_type": "code",
   "execution_count": 47,
   "metadata": {},
   "outputs": [],
   "source": [
    "#Only used the users where the threshold of filling in their meals >= 70%. \n",
    "#Also did not take into account users with more than 1 tablet, because those results were not reliable\n",
    "users = [20197, 20251, 20334, 20373, 20477, 20486, 20491, 20503, 20614, 20629, 20683]"
   ]
  },
  {
   "cell_type": "markdown",
   "metadata": {},
   "source": [
    "All_logging is used in the algorithms, because not all logging data is used in the algorithms. Evaluation_logging \n",
    "contains all logging data which we can use to evaluate the algorithms."
   ]
  },
  {
   "cell_type": "code",
   "execution_count": 48,
   "metadata": {},
   "outputs": [],
   "source": [
    "all_protein_products = {}\n",
    "all_logging = {}\n",
    "all_day_totals = {}\n",
    "all_messages = {}\n",
    "all_pref_alt = {}\n",
    "all_pref_menu = {}\n",
    "evaluation_logging = {}"
   ]
  },
  {
   "cell_type": "code",
   "execution_count": 49,
   "metadata": {},
   "outputs": [],
   "source": [
    "def read_databases3(number, select_file, result_file):\n",
    "\n",
    "    db_location = DATA_PATH + str(number) + \".db\"\n",
    "    cnx = sqlite3.connect(db_location)\n",
    "    df_file = pd.read_sql_query(select_file, cnx)\n",
    "    \n",
    "    result_file[number] = df_file"
   ]
  },
  {
   "cell_type": "code",
   "execution_count": 50,
   "metadata": {},
   "outputs": [],
   "source": [
    "for part in users:\n",
    "    if part != 20245: #deze deelnemer heeft een lege database, dus die wordt overgeslagen\n",
    "        read_databases3(part, 'SELECT * FROM day_totals', all_day_totals)\n",
    "        read_databases3(part, 'SELECT * FROM messages', all_messages)\n",
    "        read_databases3(part, 'SELECT * FROM protein_products', all_protein_products)\n",
    "        read_databases3(part, 'SELECT * FROM logging', all_logging)\n",
    "        read_databases3(part, 'SELECT * FROM logging', evaluation_logging)\n",
    "        read_databases3(part, 'SELECT * FROM pref_alt', all_pref_alt)\n",
    "        read_databases3(part, 'SELECT * FROM pref_menu', all_pref_menu)"
   ]
  },
  {
   "cell_type": "code",
   "execution_count": 51,
   "metadata": {},
   "outputs": [],
   "source": [
    "#training time is 10 weeks\n",
    "training_days = 70\n",
    "\n",
    "def create_timeframes(user, week):\n",
    "    df = all_logging[user]\n",
    "    days_list = (df['intakeDay'].unique().tolist())\n",
    "    \n",
    "    if week <= len(days_list):\n",
    "        x = days_list[:week]\n",
    "        index_split = df[df.intakeDay == x[-1]].index.values[0]\n",
    "        final_df = df[0:index_split+1]\n",
    "        evaluation_df = df\n",
    "    else:\n",
    "        final_df = df\n",
    "        evaluation_df = df\n",
    "    return final_df, evaluation_df\n",
    "\n",
    "for user in users:\n",
    "    all_logging[user], evaluation_logging[user] = create_timeframes(user, training_days)"
   ]
  },
  {
   "cell_type": "markdown",
   "metadata": {},
   "source": [
    "### General functions used in different algorithms"
   ]
  },
  {
   "cell_type": "markdown",
   "metadata": {},
   "source": [
    "For the different steps, we often have to use the same kind of algorithm. Below there are three different algorithms. the function get_meal_ids retrieves the meal the user has filled in. It retrieves the time of the day, the amount of protein points and the id's of the product from the meal.\n",
    "\n",
    "The function get_sorted_categories is used to change the id's to the categories the id belongs to. The same meals can be filled in in a different order, that is why we order it alphabetically. \n",
    "\n",
    "the function get_sorted_products is used to change the id's to the product the id belongs to. The same meals can be filled in in a different order, that is why we order them according to the id's."
   ]
  },
  {
   "cell_type": "code",
   "execution_count": 54,
   "metadata": {},
   "outputs": [],
   "source": [
    "import numpy\n",
    "\n",
    "def get_meal_ids(user):\n",
    "    df = all_logging[user]\n",
    "    df = df.loc[(df['action'] == 'response') & (df['type'] == 'advice')]\n",
    "    value_list = df['value'].tolist()\n",
    "\n",
    "    meal_list_structured = []\n",
    "\n",
    "    for i in value_list:\n",
    "        split1 = i.split(':')\n",
    "\n",
    "        meal_time = (split1[0].split('-')[0])\n",
    "        protein_points = (split1[0].split('-')[1])\n",
    "        meal_list_structured.append([meal_time, protein_points])\n",
    "\n",
    "        split2 = (split1[1].split(','))\n",
    "        product_ids = []\n",
    "        for id in split2:\n",
    "            if id != '':\n",
    "                product_ids.append(int(id.split('-')[0]))\n",
    "        meal_list_structured.append(product_ids)\n",
    "    return meal_list_structured\n",
    "\n",
    "def get_sorted_categories(user):\n",
    "    final_sorted_categories = []\n",
    "    df_products = all_protein_products[user]\n",
    "    sorted_categories = get_meal_ids(user)\n",
    "    for x in range(len(sorted_categories)):\n",
    "        if (x % 2) == 0:\n",
    "            if sorted_categories[x+1] != []:\n",
    "                final_sorted_categories.append(sorted_categories[x])\n",
    "        else:\n",
    "            ids = sorted_categories[x]\n",
    "            if (ids) != []:\n",
    "                categories = []\n",
    "                for l in range(len(ids)):\n",
    "                    categories.append(df_products.loc[df_products['ID'] == (ids[l])]['type'].item())\n",
    "                categories.sort()\n",
    "                final_sorted_categories.append(categories)\n",
    "    return final_sorted_categories\n",
    "\n",
    "def get_specific_sorted_categories(user, time):\n",
    "    meal_list_types = get_sorted_categories(user)\n",
    "    all_specific_meals_types = []\n",
    "    for i in range(len(meal_list_types)):\n",
    "        if meal_list_types[i][0] == time:\n",
    "            all_specific_meals_types.append([meal_list_types[i+1], meal_list_types[i][1]])\n",
    "    return all_specific_meals_types\n",
    "\n",
    "def get_sorted_products(user):\n",
    "    final_sorted_products = []\n",
    "    df_products = all_protein_products[user]\n",
    "    sorted_products = get_meal_ids(user)\n",
    "    for x in range(len(sorted_products)):\n",
    "        if (x % 2) == 0:\n",
    "            if sorted_products[x+1] != []:\n",
    "                final_sorted_products.append(sorted_products[x])\n",
    "        else:\n",
    "            ids = sorted_products[x]\n",
    "            if (ids) != []:\n",
    "                ids.sort()\n",
    "                products = []\n",
    "                for l in range(len(ids)):\n",
    "                    products.append(df_products.loc[df_products['ID'] == (ids[l])]['name'].item())\n",
    "                final_sorted_products.append(products)\n",
    "    return final_sorted_products\n",
    "\n",
    "def get_specific_sorted_products(user, time):\n",
    "    meal_list_names = get_sorted_products(user)\n",
    "    all_specific_meals_names = []\n",
    "    for i in range(len(meal_list_names)):\n",
    "        if meal_list_names[i][0] == time:\n",
    "            all_specific_meals_names.append([meal_list_names[i+1], meal_list_names[i][1]])\n",
    "    return all_specific_meals_names\n",
    "\n",
    "def get_prob_number(user_list):\n",
    "    prob_list = []\n",
    "    total = 0\n",
    "    for i in range(len(user_list)):\n",
    "        total += user_list[i][1]\n",
    "    if total != 0:\n",
    "        for i in range(len(user_list)):\n",
    "            prob_list.append(user_list[i][1] / total)\n",
    "        length = len(user_list)\n",
    "        prob_number = numpy.random.choice(numpy.arange(0, length), p=prob_list)\n",
    "    else:\n",
    "        length = len(user_list)\n",
    "        prob_number = np.random.randint(0, length)\n",
    "    return prob_number\n",
    "\n",
    "def create_dict_counter(lis):\n",
    "    dict_lis = Counter(tuple(x) for x in lis)\n",
    "    main_dict = dict_lis.most_common(10)\n",
    "    return main_dict\n"
   ]
  },
  {
   "cell_type": "markdown",
   "metadata": {},
   "source": [
    "### Algorithm: What is the food preference of the user (vegetarian, pescotarian)?"
   ]
  },
  {
   "cell_type": "markdown",
   "metadata": {},
   "source": [
    "As can be seen in the flowchart, there are two different ways of knowing the food preference of the user. If the user is new and thus has no previous data, it is asked when using the application for the first time. When the user is one of the active (threshold >= 70) participants of the Promiss research the algorithms below check whether the diet of the user represents a vegetarian/pescotarian diet. "
   ]
  },
  {
   "cell_type": "code",
   "execution_count": 55,
   "metadata": {},
   "outputs": [],
   "source": [
    "def add_veg_column(all_users, all_protein_products):\n",
    "    for user in all_users:\n",
    "        vega_list = ['vega'] * len(all_protein_products[user]['ID'])\n",
    "        \n",
    "        vlees_list = [115, 185, 163, 196, 208, 213, 243, 245, 246, 247, 249, 250, 255, 257, 262, 263, 265, 267, 268, 269, 270, 271, 272, 273, 274, 275, 276, 278, 279, 282, 283, 284, 286, 287,290, 291, 292, 293, 294, 296, 297, 302, 303, 304, 306, 310, 312, 313, 314, 317]\n",
    "        vis_list = [177, 33, 78, 182, 214, 224, 241, 242, 253, 254, 260, 261, 266, 277, 280, 281, 285, 288, 289, 295, 298, 300, 301, 305, 307, 308, 309, 311, 315, 344]\n",
    "\n",
    "        for i in range(len(vega_list)):\n",
    "            if i in vlees_list:\n",
    "                vega_list[i] = 'vlees'\n",
    "            if i in vis_list:\n",
    "                vega_list[i] = 'vis'\n",
    "\n",
    "        all_protein_products[user]['Vegetarian'] = vega_list\n",
    "    return all_protein_products"
   ]
  },
  {
   "cell_type": "code",
   "execution_count": 56,
   "metadata": {},
   "outputs": [],
   "source": [
    "all_protein_products = add_veg_column(users, all_protein_products)"
   ]
  },
  {
   "cell_type": "code",
   "execution_count": 57,
   "metadata": {},
   "outputs": [],
   "source": [
    "def is_meal_veg(user):\n",
    "    sorted_products = get_sorted_products(user)\n",
    "    meal_veg = []\n",
    "    for meal in sorted_products[1::2]:\n",
    "        product_veg = []\n",
    "        for product in meal:\n",
    "            df = all_protein_products[user] \n",
    "            x = df.loc[df['name'] == product]['Vegetarian'].item()\n",
    "            product_veg.append(x)\n",
    "        if 'vlees' in product_veg:\n",
    "            meal_veg.append([meal, 'not vegetarian'])\n",
    "        if 'vis' in product_veg and 'vlees' not in product_veg:\n",
    "            meal_veg.append([meal, 'pescotarian'])\n",
    "        else: \n",
    "            meal_veg.append([meal, 'vegetarian'])\n",
    "    return meal_veg\n",
    "\n",
    "def percentages_food_pref(user):\n",
    "    meal_veg = is_meal_veg(user)\n",
    "    vegetarian = 0\n",
    "    pescotarian = 0\n",
    "    meals = 0\n",
    "    for meal in meal_veg:\n",
    "        meals +=1\n",
    "        if (meal[1]) == 'vegetarian':\n",
    "            vegetarian += 1\n",
    "        if (meal[1]) == 'pescotarian' or (meal[1]) == 'vegetarian':\n",
    "            pescotarian += 1\n",
    "    percentage_vegetarian = round((vegetarian / meals) * 100, 2)\n",
    "    percentage_pescotarian = round((pescotarian / meals) * 100, 2)\n",
    "    return percentage_vegetarian, percentage_pescotarian\n",
    "\n",
    "def resulting_food_pref(user):\n",
    "    veg, pes = percentages_food_pref(user)\n",
    "    food_pref = 'all'\n",
    "    if veg >= 99:\n",
    "        food_pref = 'vega'\n",
    "    elif pes >= 99:\n",
    "        food_pref = 'pesco'\n",
    "    return food_pref"
   ]
  },
  {
   "cell_type": "markdown",
   "metadata": {},
   "source": [
    "### General functions used in multiple algorithms to check wheather meal is vega/pesco"
   ]
  },
  {
   "cell_type": "code",
   "execution_count": 58,
   "metadata": {},
   "outputs": [],
   "source": [
    "def check_meal_vega(meal, user):\n",
    "    pref_meal = 'yes'\n",
    "    df = all_protein_products[user]\n",
    "    for product in meal:\n",
    "        x = df.loc[df['name'] == product]['Vegetarian'].item()\n",
    "        if x == 'vlees':\n",
    "            pref_meal = 'no'\n",
    "    return pref_meal\n",
    "\n",
    "def check_meal_pesco(meal, user):\n",
    "    pref_meal = 'yes'\n",
    "    df = all_protein_products[user]\n",
    "    for product in meal:\n",
    "        x = df.loc[df['name'] == product]['Vegetarian'].item()\n",
    "        if x == 'vlees' or x == 'vis':\n",
    "            pref_meal = 'no'\n",
    "    return pref_meal"
   ]
  },
  {
   "cell_type": "markdown",
   "metadata": {},
   "source": [
    "### Algorithm: Get meal based on protein points"
   ]
  },
  {
   "cell_type": "markdown",
   "metadata": {},
   "source": [
    "Below the functions for the protein points algorithm can be seen. This algorithm is only used when a user fills in a meal for 'Avondeten' or 'Tussendoor avond. The meals for the specific eating moment will be divided into clusters using K-means clustering. \n",
    "Using a plot, the highest silhouette coefficient is determined and therefore the appropriate number of clusters. Subsequently, based on the amount of protein left, it is decided which cluster is closest to this amount. From this cluster a meal is chosen. "
   ]
  },
  {
   "cell_type": "code",
   "execution_count": 59,
   "metadata": {},
   "outputs": [],
   "source": [
    "def get_unique_meals_point(users, time):\n",
    "    all_specific_meals_names = []\n",
    "    for user in users:\n",
    "        meal_list_names = get_sorted_products(user)\n",
    "        for i in range(len(meal_list_names)):\n",
    "            if meal_list_names[i][0] == time:\n",
    "                all_specific_meals_names.append([meal_list_names[i+1], meal_list_names[i][1]])\n",
    "    unique_points = []\n",
    "    for number in all_specific_meals_names:\n",
    "        if number in unique_points:\n",
    "            continue\n",
    "        else:\n",
    "            unique_points.append(number)\n",
    "    unique_count = []\n",
    "    for u in unique_points:\n",
    "        counter = 0\n",
    "        for meal in all_specific_meals_names:\n",
    "            if meal == u:\n",
    "                counter +=1\n",
    "        unique_count.append([u[0], counter])\n",
    "    return unique_points, unique_count\n"
   ]
  },
  {
   "cell_type": "code",
   "execution_count": 60,
   "metadata": {},
   "outputs": [],
   "source": [
    "import matplotlib.pyplot as plt\n",
    "from sklearn.datasets import make_blobs\n",
    "from sklearn.cluster import KMeans\n",
    "from sklearn.metrics import silhouette_score\n",
    "import warnings\n",
    "warnings.filterwarnings(\"ignore\")\n",
    "\n",
    "def get_number_of_clusters(users, time):\n",
    "    unique_meals_point, unique_count = get_unique_meals_point(users, time)\n",
    "    \n",
    "    X = []\n",
    "    meal_with_points = []\n",
    "    for meal in unique_meals_point:\n",
    "        if float(meal[1]) != 0:\n",
    "            x = float(meal[1]) - 0.5\n",
    "            y = float(meal[1]) + 0.5\n",
    "            X.append([x,y])\n",
    "            meal_with_points.append([meal[0], meal[1]])\n",
    "\n",
    "    silhouette_coefficients = []\n",
    "    for k in range(2, 40):\n",
    "        kmeans = KMeans(n_clusters=k, random_state=42)\n",
    "        kmeans.fit(X)\n",
    "        score = silhouette_score(X, kmeans.labels_)\n",
    "        silhouette_coefficients.append(score)\n",
    "\n",
    "    plt.style.use(\"fivethirtyeight\")\n",
    "    plt.figure(figsize=(30,10))\n",
    "    x = range(2,40)\n",
    "    plt.plot(x, silhouette_coefficients)\n",
    "    plt.xticks(range(2, 40))\n",
    "    plt.xlabel(\"Number of Clusters\")\n",
    "    plt.ylabel(\"Silhouette Coefficient\")\n",
    "    plt.show()\n",
    "\n",
    "    ymax = max(silhouette_coefficients)\n",
    "    xpos = silhouette_coefficients.index(ymax)\n",
    "    print('best silhouette score for ', time, ' is: ', silhouette_coefficients[xpos], 'with number of clusters: ', x[xpos], '\\n')\n",
    "    xmax = x[xpos]\n",
    "    return xmax, meal_with_points, X, unique_count"
   ]
  },
  {
   "cell_type": "code",
   "execution_count": 61,
   "metadata": {},
   "outputs": [],
   "source": [
    "def create_classes(users, time):\n",
    "    xmax, meal_with_points, X, unique_count = get_number_of_clusters(users, time)\n",
    "    features, true_labels = make_blobs(n_samples=xmax, centers=xmax, cluster_std=2.75, random_state=42)\n",
    "    X = X\n",
    "    y = true_labels\n",
    "\n",
    "    kmeans = KMeans(n_clusters=xmax, random_state=42)\n",
    "\n",
    "    kmeans.fit(X)\n",
    "    #comment the next three lines if you want to show the different clusters\n",
    "    #print('These are the classes:')\n",
    "    #for i in range(len(kmeans.cluster_centers_)):\n",
    "     #   print(i, kmeans.cluster_centers_[i])\n",
    "        \n",
    "    #loop through indexes of kmeans.cluster_centers_, because every index is a class\n",
    "    #Loop through the kmeans.labels_ where the index represents the same index in meals_with_points\n",
    "    #add the meals from meals_with_points to a dictionary whenever it is the same as the class\n",
    "    dic_classes = {}\n",
    "    for k in range(len(kmeans.cluster_centers_)):\n",
    "        per_class = []\n",
    "        for i in range(len(kmeans.labels_)):\n",
    "            if (kmeans.labels_[i]) == k:\n",
    "                per_class.append(meal_with_points[i][0])\n",
    "        dic_classes[k] = per_class\n",
    "    return dic_classes, kmeans.cluster_centers_, unique_count"
   ]
  },
  {
   "cell_type": "code",
   "execution_count": 62,
   "metadata": {},
   "outputs": [],
   "source": [
    "def closest(cluster_centers, protein):\n",
    "    cluster_list1 = [item[0] for item in cluster_centers]\n",
    "    cluster_list2 = [item[1] for item in cluster_centers]\n",
    "    closest_index = []\n",
    "    differences = []\n",
    "    for i in range(len(cluster_list1)):\n",
    "        diff1 = (abs(protein - cluster_list1[i]))\n",
    "        diff2 = (abs(protein - cluster_list2[i]))\n",
    "        add = diff1 + diff2\n",
    "        differences.append(add)\n",
    "        \n",
    "    minimum = min(differences)\n",
    "    for i in range(len(differences)):\n",
    "        if differences[i] == minimum:\n",
    "            closest_index.append(i)\n",
    "    return closest_index\n",
    "\n",
    "def get_meals_from_class(cluster_center, left_protein, dic_classes, users, time, unique_count): \n",
    "    final_class = (closest(cluster_center, left_protein))\n",
    "    print('The user needs ', left_protein, 'protein points', 'from class ', final_class, 'for ', time, '\\n')\n",
    "    final_meals = []\n",
    "    for i in final_class:\n",
    "        for meal in dic_classes[i]:\n",
    "            final_meals.append(meal)\n",
    "    \n",
    "    final_meal_count = []\n",
    "    for meal_count in unique_count:\n",
    "        for meal2 in final_meals:\n",
    "            if meal_count[0] == meal2 and meal_count not in final_meal_count:\n",
    "                final_meal_count.append(meal_count)\n",
    "\n",
    "    final_meal_count = sorted(final_meal_count, key = lambda x: x[1], reverse=True)\n",
    "    return final_meal_count\n"
   ]
  },
  {
   "cell_type": "code",
   "execution_count": 63,
   "metadata": {},
   "outputs": [],
   "source": [
    "def meals_by_preference(preference, meals):\n",
    "    correct_meals = []\n",
    "    if preference == 'vega':\n",
    "        for meal in meals:\n",
    "            #Can make use here of only user 20197 because all protein_products dataframes are the same\n",
    "            x = check_meal_vega(meal[0], 20197)\n",
    "            if x == 'yes':\n",
    "                correct_meals.extend(meal)\n",
    "    elif preference == 'pesco':\n",
    "        for meal in meals:\n",
    "            x = check_meal_pesco(meal[0], 20197)\n",
    "            if x == 'yes':\n",
    "                correct_meals.extend(meal)\n",
    "    elif preference == 'all':\n",
    "        correct_meals = meals\n",
    "    return correct_meals"
   ]
  },
  {
   "cell_type": "code",
   "execution_count": 64,
   "metadata": {},
   "outputs": [],
   "source": [
    "def chosen_meal_protein(user, day, time_o_day):\n",
    "    df = evaluation_logging[user]\n",
    "    df = df.loc[((df['content'] == 'confirmation') & (df['type'] == 'advice')) | (df['type'] == 'advice') & (df['content'] == 'confirmation-changed') | (df['action'] == 'shown') & (df['type'] == 'advice')]\n",
    "\n",
    "    times_list = []\n",
    "    meal_list = []\n",
    "    for index, row in df.iterrows():\n",
    "        if(row.intakeDay) == None:\n",
    "            times_list.append('None')\n",
    "            meal_list.append(row.value)\n",
    "        else:\n",
    "            val = row.value.split(':')[0]    \n",
    "            v = val.split('-')[0]\n",
    "            times_list.append(v)\n",
    "            meal = row.value.split(':')[0]\n",
    "            meal2 = meal.split('-')[1]\n",
    "            meal_list.append(meal2)\n",
    "    df['times'] = times_list\n",
    "    df['value'] = meal_list\n",
    "\n",
    "    confirmations = df.loc[(df['content'] == 'confirmation') & (df['intakeDay'] == day) & (df['times'] == time_o_day)]\n",
    "    id_chosen = confirmations['id'].tolist()\n",
    "    if id_chosen != []:\n",
    "        chosen_meal = df.loc[df['id'] == id_chosen[-1]].value.item()\n",
    "    \n",
    "    return chosen_meal"
   ]
  },
  {
   "cell_type": "markdown",
   "metadata": {},
   "source": [
    "If the protein left is more than 0.3 * protein need, we need to distribute the protein left between 'Avondeten' and 'Tussendoor avond'. So protein_left is 0.75 * protein_left."
   ]
  },
  {
   "cell_type": "code",
   "execution_count": 65,
   "metadata": {},
   "outputs": [],
   "source": [
    "def protein_algorithm(users, user, time_protein_left, today, preference):\n",
    "    df = pd.read_excel('/Users/dewispooren/surfdrive/Shared/PROMISS data/thresholds deelnemers2.xlsx')\n",
    "    df = df.rename(columns={'Unnamed: 0': 'User'})\n",
    "    protein_need = df.loc[df['User'] == user]['Total'].item()\n",
    "    \n",
    "    total_protein = all_day_totals[user].loc[all_day_totals[user]['day'] == today]['total'].item()\n",
    "    \n",
    "    minus_protein = chosen_meal_protein(user, today, time_protein_left[0]) #This line is used for evaluation\n",
    "    time_protein_left.append(protein_need - (total_protein-float(minus_protein))) #This line is used for evaluation\n",
    "                             \n",
    "    #time_protein_left.append((protein_need - (total_protein))  #uncomment this line if it is not used for evaluation\n",
    "    \n",
    "    if time_protein_left[0] == time_protein_left[0]:\n",
    "        if time_protein_left[1] > 0.3 * protein_need:\n",
    "            time_protein_left[1] == 0.75 * time_protein_left[1]\n",
    "    if time_protein_left[1] > 0:\n",
    "        dic_class, cluster_center, unique_count = create_classes(users, time_protein_left[0])\n",
    "        meals = get_meals_from_class(cluster_center, time_protein_left[1], dic_class, users, time_protein_left[0], unique_count)\n",
    "        correct_meals = meals_by_preference(preference, meals)\n",
    "        if correct_meals != []:\n",
    "            index_number = get_prob_number(correct_meals)\n",
    "            final_protein_meal = correct_meals[index_number][0]\n",
    "        else:\n",
    "            print('Found no meals with your preference for the amount of protein left')\n",
    "            final_protein_meal = []\n",
    "    else:\n",
    "        print('You have eaten enough today to reach your protein points')\n",
    "        final_protein_meal = []\n",
    "    return final_protein_meal\n"
   ]
  },
  {
   "cell_type": "markdown",
   "metadata": {},
   "source": [
    "### Algorithm: Preset"
   ]
  },
  {
   "cell_type": "markdown",
   "metadata": {},
   "source": [
    "The preset algorithm is used when the protein points algorithm is not used. \n",
    "The algorithm transforms each meal from all users for a specific eating moment into a list of the \n",
    "categories of the products. The 10 most used presets are selected.\n",
    "For the chosen preset, each category the most used product is looked at and one meal is created."
   ]
  },
  {
   "cell_type": "code",
   "execution_count": 66,
   "metadata": {},
   "outputs": [],
   "source": [
    "from collections import Counter\n",
    "\n",
    "def create_preset(active_meal_composers, time):\n",
    "    list_of_all_presets = []\n",
    "    for composer in active_meal_composers:\n",
    "        meals_types = get_specific_sorted_categories(composer, time)\n",
    "        for meal in meals_types:\n",
    "            if meal != ['']:\n",
    "                list_of_all_presets.append(meal[0])\n",
    "    return list_of_all_presets\n",
    "\n",
    "def create_dict_counter(lis):\n",
    "    dict_lis = Counter(tuple(x) for x in lis)\n",
    "    main_dict = dict_lis.most_common(10)\n",
    "    return main_dict\n",
    "\n",
    "def get_user_preset(user, time, presets):\n",
    "    meals_types = get_specific_sorted_categories(user, time)\n",
    "    \n",
    "    user_presets = []\n",
    "    for preset in presets:\n",
    "        counter = 0\n",
    "        for meal in meals_types:\n",
    "            if meal[0] == list(preset[0]):\n",
    "                counter += 1\n",
    "        user_presets.append([preset[0], counter])\n",
    "    user_presets.sort(key = lambda x: x[1], reverse=True)\n",
    "    return user_presets\n",
    "\n",
    "def get_specific_meals2(meal_list_types, meal_list_names, time):\n",
    "    all_specific_meals_types = []\n",
    "    for i in range(len(meal_list_types)):\n",
    "        if meal_list_types[i][0] in time:\n",
    "            all_specific_meals_types.append((meal_list_types[i+1]))\n",
    "            \n",
    "    all_specific_meals_names = []\n",
    "    for i in range(len(meal_list_names)):\n",
    "        if meal_list_names[i][0] in time:\n",
    "            all_specific_meals_names.append((meal_list_names[i+1]))\n",
    "            \n",
    "    return all_specific_meals_types, all_specific_meals_names\n",
    "\n",
    "\n",
    "def products_by_preference(preference, products):\n",
    "    correct_products = []\n",
    "    if preference == 'vega':\n",
    "        for product in products:\n",
    "            #Can make use here of only user 20197 because all protein_products dataframes are the same\n",
    "            x = check_meal_vega([product], 20197)\n",
    "            if x == 'yes':\n",
    "                correct_products.append(product)\n",
    "    if preference == 'pesco':\n",
    "        for product in products:\n",
    "            x = check_meal_pesco([product], 20197)\n",
    "            if x == 'yes':\n",
    "                correct_products.append(product)\n",
    "    else:\n",
    "        for product in products:\n",
    "            correct_products.append(product)\n",
    "    return correct_products\n",
    "\n",
    "#check if the product has been used sometime in the time of the day\n",
    "#for example when you want a breakfast meal, and the product is wine, it is not logical to recommend wine as product\n",
    "def exist_time_o_day(products, users, time_o_day):\n",
    "    correct_products = []\n",
    "    if len(users) == 1:\n",
    "        meals = get_specific_sorted_products(users[0], time_o_day)\n",
    "        for product in products:\n",
    "            for meal in meals:\n",
    "                if product in meal[0]:\n",
    "                    correct_products.append(product)\n",
    "    else:\n",
    "        all_meals = []\n",
    "        for ID in users:\n",
    "            meals = get_specific_sorted_products(users[0], time_o_day)\n",
    "            all_meals.extend(meals)\n",
    "        for product in products:\n",
    "            for meal in all_meals:\n",
    "                if product in meal[0]:\n",
    "                    correct_products.append(product)\n",
    "    return correct_products\n",
    "\n",
    "list_times = ['Avondeten', 'Ontbijt', 'Lunch', 'Tussendoor avond', 'Tussendoor middag', 'Tussendoor ochtend']\n",
    "\n",
    "def get_most_used_products(users, category, preference, time_o_day):\n",
    "    product_list = []\n",
    "    for ID in users:\n",
    "        df = all_protein_products[ID]\n",
    "        meal_list_types = get_sorted_products(ID)\n",
    "        for i in meal_list_types[1::2]:\n",
    "            for j in i:\n",
    "                cat = df.loc[df['name'] == j]['type'].item()\n",
    "                if cat == category:\n",
    "                    product_list.append(j)\n",
    "    correct_products = products_by_preference(preference, product_list)\n",
    "    correct_products = exist_time_o_day(correct_products, users, time_o_day)\n",
    "    return Counter(correct_products).most_common()\n"
   ]
  },
  {
   "cell_type": "code",
   "execution_count": 67,
   "metadata": {},
   "outputs": [],
   "source": [
    "def get_prob_number_preset(user_list):\n",
    "    prob_list = []\n",
    "    total = 0\n",
    "    for i in range(len(user_list)):\n",
    "        total += user_list[i][1]\n",
    "    if total != 0:\n",
    "        for i in range(len(user_list)):\n",
    "            prob_list.append(user_list[i][1] / total)\n",
    "        length = len(user_list)\n",
    "        a = numpy.arange(0, len(prob_list))\n",
    "        prob_number = numpy.random.choice(a, p=prob_list)\n",
    "    else:\n",
    "        length = len(user_list)\n",
    "        prob_number = np.random.randint(0, 10)\n",
    "    return prob_number"
   ]
  },
  {
   "cell_type": "code",
   "execution_count": 68,
   "metadata": {},
   "outputs": [],
   "source": [
    "def preset_algorithm(users, user, time_o_day, participant, preference):\n",
    "    presets = create_dict_counter(create_preset(users, time_o_day))\n",
    "    if participant == 'old':\n",
    "        user_presets = get_user_preset(user[0], time_o_day, presets)\n",
    "        index_number = get_prob_number(user_presets)\n",
    "        picked_preset = user_presets[index_number]\n",
    "        #Here change users to user, because below you are going to get the most_used products for 'users'\n",
    "        #And for old participants, the most_used products are only for the user\n",
    "        users = user\n",
    "    if participant == 'new':\n",
    "        index_number = get_prob_number(presets)\n",
    "        picked_preset = presets[index_number]\n",
    "        \n",
    "    recommended_meal = []\n",
    "    for product in picked_preset[0]:\n",
    "        most_used_product = get_most_used_products(users, product, preference, time_o_day)\n",
    "        index_number = get_prob_number(most_used_product)\n",
    "        product = most_used_product[index_number][0]\n",
    "        if product in recommended_meal:\n",
    "            most_used_product.remove(most_used_product[index_number])\n",
    "            index_number = get_prob_number_preset(most_used_product)\n",
    "            product = most_used_product[index_number][0]\n",
    "        recommended_meal.append(product)\n",
    "    return recommended_meal\n"
   ]
  },
  {
   "cell_type": "markdown",
   "metadata": {},
   "source": [
    "### Algorithm: Core + addition"
   ]
  },
  {
   "cell_type": "markdown",
   "metadata": {},
   "source": [
    "The core + addition algorithm is used besides the preset/protein algorithm in order to recommend the second meal. In this context, the core is a composition of two products often occurring together in a meal. The additions are products that often occur together with the core in a meal."
   ]
  },
  {
   "cell_type": "code",
   "execution_count": 69,
   "metadata": {},
   "outputs": [],
   "source": [
    "import itertools\n",
    "from collections import Counter\n",
    "import numpy as np\n",
    "\n",
    "def get_combinations(list_unique, preference):\n",
    "    combinations = []\n",
    "    for subset in itertools.combinations(list_unique, 2):\n",
    "        if preference == 'vega':\n",
    "            for product in list(subset):\n",
    "                x = check_meal_vega(list(subset), user)\n",
    "                if x == 'yes':\n",
    "                    combinations.append(list(subset))\n",
    "        elif preference == 'pesco':\n",
    "            for product in list(subset):\n",
    "                x = check_meal_pesco(list(subset), user)\n",
    "                if x == 'yes':\n",
    "                    combinations.append(list(subset))\n",
    "        else:\n",
    "            combinations.append(list(subset))\n",
    "    return combinations\n",
    "\n",
    "def get_cores(lists, combinations):\n",
    "    count = []\n",
    "    for combo in combinations:\n",
    "        number = 0\n",
    "        for one_list in lists:\n",
    "            result =  all(elem in one_list  for elem in combo)\n",
    "            if result:\n",
    "                number +=1\n",
    "        if number != 0:\n",
    "            count.append([combo, number])\n",
    "    count_sorted = sorted(count, key=lambda x: x[1])\n",
    "    return count_sorted[-20:]\n",
    "\n",
    "def get_additions(lists, core, preference):\n",
    "    addition_list = []\n",
    "    for k in lists:\n",
    "        result =  all(elem in k  for elem in core[0])\n",
    "        if result:\n",
    "            for j in k:\n",
    "                if j not in core[0] and j not in addition_list:\n",
    "                    if preference == 'vega':\n",
    "                        x = check_meal_vega([j], user)\n",
    "                        if x == 'yes':\n",
    "                            addition_list.append(j)\n",
    "                    elif preference == 'pesco':\n",
    "                        x = check_meal_pesco([j], user)\n",
    "                        if x == 'yes':\n",
    "                            addition_list.append(j)\n",
    "                    else:\n",
    "                        addition_list.append(j)\n",
    "    final_additions = []\n",
    "    final_additions.append([core[0], addition_list])\n",
    "    return final_additions\n",
    "\n",
    "def count_additions(lists, core_additions):\n",
    "    result_list = []\n",
    "    for core_addition in core_additions:\n",
    "        including = []\n",
    "        for k in lists:\n",
    "            result =  all(elem in k  for elem in core_addition[0])\n",
    "            if result:\n",
    "                including.append(k)\n",
    "        inbetween_result = []\n",
    "        for addition in core_addition[1]:\n",
    "            number = 0\n",
    "            for j in including:\n",
    "                if addition in j:\n",
    "                    number += 1\n",
    "            inbetween_result.append([addition, number])\n",
    "        sorted(inbetween_result, key=lambda x: x[1])\n",
    "        result_list.append([core_addition[0], inbetween_result])\n",
    "    return result_list\n"
   ]
  },
  {
   "cell_type": "code",
   "execution_count": 70,
   "metadata": {},
   "outputs": [],
   "source": [
    "def get_cores_result(user, time, preference):\n",
    "    spec_meals_names = get_specific_sorted_products(user, time)\n",
    "    final_list = []\n",
    "    for meal in (spec_meals_names):\n",
    "        final_list.append(meal[0])\n",
    "    unique_items = np.array(list({x for l in final_list for x in l}))\n",
    "    combinations = get_combinations(unique_items, preference)\n",
    "    cores = get_cores(final_list, combinations)\n",
    "    return cores, final_list"
   ]
  },
  {
   "cell_type": "code",
   "execution_count": 71,
   "metadata": {},
   "outputs": [],
   "source": [
    " def core_addition_algorithm(user, time, preference):\n",
    "    cores_result, spec_meals_names = get_cores_result(user, time, preference)\n",
    "    index_number = get_prob_number(cores_result)\n",
    "    final_core = (cores_result[index_number])\n",
    "    final_additions = get_additions(spec_meals_names, final_core, preference) \n",
    "    result_list = count_additions(spec_meals_names, final_additions)\n",
    "\n",
    "    recommended_meal = final_core[0]\n",
    "    while (len(recommended_meal) !=5):\n",
    "        index_number = get_prob_number(result_list[0][1])\n",
    "        final_addition = result_list[0][1][index_number]\n",
    "        if final_addition[0] not in recommended_meal:\n",
    "            recommended_meal.append(final_addition[0])\n",
    "    return recommended_meal"
   ]
  },
  {
   "cell_type": "markdown",
   "metadata": {},
   "source": [
    "### Algoritme: Association rule learning"
   ]
  },
  {
   "cell_type": "markdown",
   "metadata": {},
   "source": [
    "When filling in products for a meal, association rule learning is used to look at the relationships between products from the protein products list and the products in the current meal. These relationships are used to predict the next product picked."
   ]
  },
  {
   "cell_type": "code",
   "execution_count": 72,
   "metadata": {},
   "outputs": [],
   "source": [
    "import pandas as pd\n",
    "import numpy as np\n",
    "from mlxtend.frequent_patterns import apriori, association_rules\n",
    "import matplotlib.pyplot as plt\n",
    "\n",
    "def get_encoded_df(user, time):\n",
    "    spec_meals_names = get_specific_sorted_products(user, time)\n",
    "    spec_meals_names = [item[0] for item in spec_meals_names]\n",
    "    df = pd.DataFrame(spec_meals_names)\n",
    "    items = np.array(list({x for l in spec_meals_names for x in l}))\n",
    "    itemset = set(items)\n",
    "    encoded_vals = []\n",
    "    for index, row in df.iterrows():\n",
    "        rowset = set(row) \n",
    "        labels = {}\n",
    "        uncommons = list(itemset - rowset)\n",
    "        commons = list(itemset.intersection(rowset))\n",
    "        for uc in uncommons:\n",
    "            labels[uc] = 0\n",
    "        for com in commons:\n",
    "            labels[com] = 1\n",
    "        encoded_vals.append(labels)\n",
    "    encoded_vals[0]\n",
    "    encoded_df = pd.DataFrame(encoded_vals)\n",
    "    return encoded_df"
   ]
  },
  {
   "cell_type": "code",
   "execution_count": 73,
   "metadata": {},
   "outputs": [],
   "source": [
    "def ass_rule_learning_algorithm(user, time_o_day, added_products):\n",
    "    encoded_df = get_encoded_df(user, time_o_day)\n",
    "    freq_items = apriori(encoded_df, min_support=0.05, use_colnames=True, verbose=1)\n",
    "    rules = association_rules(freq_items, metric=\"confidence\", min_threshold=0.2)\n",
    "    consequent_support = []\n",
    "    for index, row in rules.iterrows():\n",
    "        if added_products in list(row['antecedents']):\n",
    "            consequent_support.append([list(row['consequents']), row['support']])\n",
    "    \n",
    "    if consequent_support != []:\n",
    "        final_consequent = []\n",
    "        while (len(final_consequent) !=2):\n",
    "            index_number = get_prob_number(consequent_support)\n",
    "            products = consequent_support[index_number][0]\n",
    "            for product in products:\n",
    "                if product not in final_consequent:\n",
    "                    if len(final_consequent) != 2:\n",
    "                        final_consequent.append(product)\n",
    "    else:\n",
    "        final_consequent = []\n",
    "        print('no consequents')\n",
    "    return final_consequent"
   ]
  },
  {
   "cell_type": "markdown",
   "metadata": {},
   "source": [
    "If the user is an old user, then the first meal is composed using the protein algorithm or the preset algorithm. When the user wants to fill in a meal for 'Avondeten', or 'Tussendoor avond', then the amount of protein left is taken into consideration and the protein algorithm is used. Otherwise the preset algorithm is used. \n",
    "\n",
    "When the user is a new user, then the first meal is composed using the same as the old user, however there are a few adjustments made in both the protein and preset algorithm so we can use it for both new and old users. \n",
    "\n",
    "For the protein algorithm, the users variable is used to create the individual clusters. when a user is new, it has no old data to create the clusters, so we look at all active users. If it is an old user, the variable users = [user], if it is a new user, the variable users = [users], meaning all the active users. \n",
    "\n",
    "When using the preset algorithm, the users variable is used to get the most used products for an user. But this cannot be done for a new user, therefore we use all the active users. So, for an old user, users = user, but for a new user, users = users."
   ]
  },
  {
   "cell_type": "markdown",
   "metadata": {},
   "source": [
    "### Trouble finding a day with input for testing the protein points algorithm? Check here:\n"
   ]
  },
  {
   "cell_type": "markdown",
   "metadata": {},
   "source": [
    "When you want to test the algorithm for the protein points, use the function below.\n",
    "\n",
    "Because a lot of users have filled in their entire day and thus are no longer missing protein points it can be \n",
    "difficult to find a day to test the protein algorithm. Below you can see all the days the user has not\n",
    "finished all protein points. Besides this, you can also change the total_protein in the protein_algorithm function \n",
    "to an arbitrary number. "
   ]
  },
  {
   "cell_type": "code",
   "execution_count": 70,
   "metadata": {},
   "outputs": [
    {
     "data": {
      "text/plain": [
       "[['4/14/2019', 0.5, 'Tussendoor avond'],\n",
       " ['4/17/2019', 3.5, 'Tussendoor avond'],\n",
       " ['4/22/2019', 4.5, 'Tussendoor avond'],\n",
       " ['4/29/2019', -2.5, 'Tussendoor avond'],\n",
       " ['5/10/2019', 1.0, 'Tussendoor avond'],\n",
       " ['5/19/2019', 1.5, 'Tussendoor avond'],\n",
       " ['6/8/2019', 1.0, 'Tussendoor avond'],\n",
       " ['6/14/2019', -2.5, 'Tussendoor avond'],\n",
       " ['6/15/2019', -1.0, 'Tussendoor avond'],\n",
       " ['6/16/2019', -3.0, 'Tussendoor avond'],\n",
       " ['7/4/2019', -1.0, 'Tussendoor avond'],\n",
       " ['7/6/2019', 5.5, 'Tussendoor avond'],\n",
       " ['7/8/2019', -3.0, 'Tussendoor avond']]"
      ]
     },
     "execution_count": 70,
     "metadata": {},
     "output_type": "execute_result"
    }
   ],
   "source": [
    "def not_finished_days(user, evaluation_logging):\n",
    "    df = pd.read_excel('/Users/dewispooren/surfdrive/Shared/PROMISS data/thresholds deelnemers2.xlsx')\n",
    "    df = df.rename(columns={'Unnamed: 0': 'User'})\n",
    "    protein_need = df.loc[df['User'] == user]['Total'].item()\n",
    "    \n",
    "    days = evaluation_logging[user]['intakeDay'].unique().tolist()\n",
    "    days.remove(None)\n",
    "\n",
    "    snack_days = []\n",
    "    for day in days:\n",
    "        day_times = []\n",
    "        times = evaluation_logging[user].loc[evaluation_logging[user]['intakeDay'] == day]['value'].tolist()\n",
    "        for time in times:\n",
    "            day_times.append(time.split('-')[0])\n",
    "        if 'Avondeten' not in day_times and 'Tussendoor avond' not in day_times:\n",
    "            total_protein = all_day_totals[user].loc[all_day_totals[user]['day'] == day]['total'].item()\n",
    "            snack_days.append([day, (protein_need - total_protein), 'Avondeten', 'Tussendoor avond'])\n",
    "        elif 'Tussendoor avond' not in day_times:\n",
    "            total_protein = all_day_totals[user].loc[all_day_totals[user]['day'] == day]['total'].item()\n",
    "            snack_days.append([day, (protein_need - total_protein), 'Tussendoor avond'])\n",
    "        elif 'Avondeten' not in day_times:\n",
    "            total_protein = all_day_totals[user].loc[all_day_totals[user]['day'] == day]['total'].item()\n",
    "            snack_days.append([day, (protein_need - total_protein), 'Avondeten'])\n",
    "    return snack_days\n",
    "\n",
    "user = 20197\n",
    "not_finished_days(user, evaluation_logging)"
   ]
  },
  {
   "cell_type": "code",
   "execution_count": 172,
   "metadata": {},
   "outputs": [
    {
     "name": "stdout",
     "output_type": "stream",
     "text": [
      "43\n"
     ]
    }
   ],
   "source": [
    "#97, 240\n",
    "users = [20197, 20251, 20334, 20373, 20477, 20486, 20491, 20503, 20614, 20629, 20683]\n",
    "days = evaluation_logging[20683]['intakeDay'].unique().tolist()\n",
    "print(len(days))"
   ]
  },
  {
   "cell_type": "markdown",
   "metadata": {},
   "source": [
    "# Evaluatie"
   ]
  },
  {
   "cell_type": "markdown",
   "metadata": {},
   "source": [
    "# How long is the training period?: Evaluate preset\n"
   ]
  },
  {
   "cell_type": "markdown",
   "metadata": {},
   "source": [
    "To know how many training data we have to use, we check for multiple weeks the preset. \n",
    "We compare these presets with the preset using all data. Using this information,\n",
    "we decide based on similarity and on amount of weeks how long the training period is.\n",
    "For example if we have a similarity of 90% after 20 weeks and a similarity of 80% after 5 weeks,\n",
    "then it can be concluded to use 5 weeks as training period. Because it is also important how long \n",
    "the user has to use the application before it functions optimal."
   ]
  },
  {
   "cell_type": "code",
   "execution_count": null,
   "metadata": {},
   "outputs": [],
   "source": [
    "def create_timeframes(user, week):\n",
    "    df = evaluation_logging[user]\n",
    "    df = df.loc[(df['action'] == 'response') & (df['type'] == 'advice')]\n",
    "    days_list = (df['intakeDay'].unique().tolist())\n",
    "    if week <= len(days_list):\n",
    "        restricted_days = days_list[:int(week)]\n",
    "        final_df = df[df['intakeDay'].isin(restricted_days)]\n",
    "    else:\n",
    "        final_df = df\n",
    "    return final_df\n",
    "\n",
    "def get_meal_ids2(user, week):\n",
    "    #df = all_logging[user]\n",
    "    #df = df.loc[(df['action'] == 'response') & (df['type'] == 'advice')]\n",
    "    df = create_timeframes(user, week)\n",
    "    value_list = df['value'].tolist()\n",
    "\n",
    "    meal_list_structured = []\n",
    "\n",
    "    for i in value_list:\n",
    "        split1 = i.split(':')\n",
    "\n",
    "        meal_time = (split1[0].split('-')[0])\n",
    "        protein_points = (split1[0].split('-')[1])\n",
    "        meal_list_structured.append([meal_time, protein_points])\n",
    "\n",
    "        split2 = (split1[1].split(','))\n",
    "        product_ids = []\n",
    "        for id in split2:\n",
    "            if id != '':\n",
    "                product_ids.append(int(id.split('-')[0]))\n",
    "        meal_list_structured.append(product_ids)\n",
    "    return meal_list_structured\n",
    "\n",
    "def get_sorted_categories2(user, week):\n",
    "    final_sorted_categories = []\n",
    "    df_products = all_protein_products[user]\n",
    "    sorted_categories = get_meal_ids2(user, week)\n",
    "    for x in range(len(sorted_categories)):\n",
    "        if (x % 2) == 0:\n",
    "            if sorted_categories[x+1] != []:\n",
    "                final_sorted_categories.append(sorted_categories[x])\n",
    "        else:\n",
    "            ids = sorted_categories[x]\n",
    "            if (ids) != []:\n",
    "                categories = []\n",
    "                for l in range(len(ids)):\n",
    "                    categories.append(df_products.loc[df_products['ID'] == (ids[l])]['type'].item())\n",
    "                categories.sort()\n",
    "                final_sorted_categories.append(categories)\n",
    "    return final_sorted_categories\n",
    "\n",
    "def get_specific_sorted_categories2(user, time, week):\n",
    "    meal_list_types = get_sorted_categories2(user, week)\n",
    "    all_specific_meals_types = []\n",
    "    for i in range(len(meal_list_types)):\n",
    "        if meal_list_types[i][0] == time:\n",
    "            all_specific_meals_types.append([meal_list_types[i+1], meal_list_types[i][1]])\n",
    "    return all_specific_meals_types\n",
    "\n",
    "def create_preset2(active_meal_composers, time, week):\n",
    "    list_of_all_presets = []\n",
    "    for composer in active_meal_composers:\n",
    "        meals_types = get_specific_sorted_categories2(composer, time, week)\n",
    "        for meal in meals_types:\n",
    "            if meal != ['']:\n",
    "                list_of_all_presets.append(meal[0])\n",
    "    return list_of_all_presets\n",
    "\n",
    "def create_dict_counter2(lis):\n",
    "    dict_lis = Counter(tuple(x) for x in lis)\n",
    "    main_dict = dict_lis.most_common(10)\n",
    "    return main_dict\n"
   ]
  },
  {
   "cell_type": "code",
   "execution_count": null,
   "metadata": {},
   "outputs": [],
   "source": [
    "users = [20197, 20251, 20334, 20373, 20477, 20486, 20491, 20503, 20614, 20629, 20683]\n",
    "\n",
    "weeks = list(range(7,250,7))\n",
    "presets = []\n",
    "for week in weeks:\n",
    "    preset = create_dict_counter2(create_preset2(users, 'Avondeten', week))\n",
    "    presets.append(preset)"
   ]
  },
  {
   "cell_type": "code",
   "execution_count": null,
   "metadata": {},
   "outputs": [],
   "source": [
    "preset_avondeten = presets[-1]\n",
    "\n",
    "preset_without_count = []\n",
    "for meal in preset_avondeten:\n",
    "    preset_without_count.append(meal[0])\n",
    "\n",
    "percentage = []\n",
    "for preset in presets:\n",
    "    count = 0\n",
    "    for i in range(10):\n",
    "        if preset[i][0] in preset_without_count:\n",
    "            count += 10\n",
    "    percentage.append(count)\n",
    "print(percentage)"
   ]
  },
  {
   "cell_type": "code",
   "execution_count": 159,
   "metadata": {},
   "outputs": [
    {
     "data": {
      "image/png": "[encoded data removed]",
      "text/plain": [
       "<Figure size 288x216 with 1 Axes>"
      ]
     },
     "metadata": {
      "needs_background": "light"
     },
     "output_type": "display_data"
    }
   ],
   "source": [
    "import matplotlib.pyplot as plt\n",
    "\n",
    "weeks = list(range(7,250,7))\n",
    "percentage = [40, 40, 50, 60, 60, 70, 70, 80, 80, 80, 80, 80, 90, 90, 90, 90, 90, 90, 90, 90, 90, 90, 90, 90, 90, 90, 100, 100, 100, 100, 100, 100, 100, 100, 100]\n",
    "new_weeks = list(range(1, len(weeks)+1))\n",
    "\n",
    "fig, ax = plt.subplots(figsize=(4,3))\n",
    "ax.set_ylim([30,100])\n",
    "ax.plot(new_weeks, percentage)\n",
    "\n",
    "ax.set(xlabel='weeks', ylabel='percentage',\n",
    "       title='Similarity presets avondeten')\n",
    "ax.grid()\n",
    "\n",
    "plt.tight_layout()\n",
    "plt.savefig('preset_avondeten.png')\n",
    "\n",
    "plt.show()"
   ]
  },
  {
   "cell_type": "code",
   "execution_count": null,
   "metadata": {},
   "outputs": [],
   "source": [
    "users = [20197, 20251, 20334, 20373, 20477, 20486, 20491, 20503, 20614, 20629, 20683]\n",
    "\n",
    "weeks = list(range(7,250,7))\n",
    "presets = []\n",
    "for week in weeks:\n",
    "    preset = create_dict_counter2(create_preset2(users, 'Lunch', week))\n",
    "    presets.append(preset)"
   ]
  },
  {
   "cell_type": "code",
   "execution_count": null,
   "metadata": {},
   "outputs": [],
   "source": [
    "preset_avondeten = presets[-1]\n",
    "\n",
    "preset_without_count = []\n",
    "for meal in preset_avondeten:\n",
    "    preset_without_count.append(meal[0])\n",
    "\n",
    "percentage = []\n",
    "for preset in presets:\n",
    "    count = 0\n",
    "    for i in range(10):\n",
    "        if preset[i][0] in preset_without_count:\n",
    "            count += 10\n",
    "    percentage.append(count)\n",
    "print(percentage)"
   ]
  },
  {
   "cell_type": "code",
   "execution_count": 158,
   "metadata": {},
   "outputs": [
    {
     "data": {
      "image/png": "[encoded data removed]",
      "text/plain": [
       "<Figure size 288x216 with 1 Axes>"
      ]
     },
     "metadata": {
      "needs_background": "light"
     },
     "output_type": "display_data"
    }
   ],
   "source": [
    "import matplotlib.pyplot as plt\n",
    "\n",
    "percentage = [50, 50, 60, 60, 70, 70, 70, 70, 70, 80, 80, 80, 80, 80, 80, 80, 80, 80, 80, 80, 80, 80, 80, 80, 80, 80, 80, 80, 90, 90, 100, 100, 100, 100, 100]\n",
    "new_weeks = list(range(1, len(weeks)+1))\n",
    "\n",
    "fig, ax = plt.subplots(figsize=(4,3))\n",
    "ax.set_ylim([30,100])\n",
    "ax.plot(new_weeks, percentage)\n",
    "\n",
    "ax.set(xlabel='weeks', ylabel='percentage',\n",
    "       title='Similarity presets lunch')\n",
    "ax.grid()\n",
    "\n",
    "plt.tight_layout()\n",
    "plt.savefig('preset_lunch.png')\n",
    "\n",
    "plt.show()"
   ]
  },
  {
   "cell_type": "code",
   "execution_count": null,
   "metadata": {},
   "outputs": [],
   "source": [
    "users = [20197, 20251, 20334, 20373, 20477, 20486, 20491, 20503, 20614, 20629, 20683]\n",
    "\n",
    "weeks = list(range(7,250,7))\n",
    "presets = []\n",
    "for week in weeks:\n",
    "    preset = create_dict_counter2(create_preset2(users, 'Ontbijt', week))\n",
    "    presets.append(preset)"
   ]
  },
  {
   "cell_type": "code",
   "execution_count": null,
   "metadata": {},
   "outputs": [],
   "source": [
    "preset_avondeten = presets[-1]\n",
    "\n",
    "preset_without_count = []\n",
    "for meal in preset_avondeten:\n",
    "    preset_without_count.append(meal[0])\n",
    "\n",
    "percentage = []\n",
    "for preset in presets:\n",
    "    count = 0\n",
    "    for i in range(10):\n",
    "        if preset[i][0] in preset_without_count:\n",
    "            count += 10\n",
    "    percentage.append(count)\n",
    "print(percentage)"
   ]
  },
  {
   "cell_type": "code",
   "execution_count": 157,
   "metadata": {},
   "outputs": [
    {
     "data": {
      "image/png": "[encoded data removed]",
      "text/plain": [
       "<Figure size 288x216 with 1 Axes>"
      ]
     },
     "metadata": {
      "needs_background": "light"
     },
     "output_type": "display_data"
    }
   ],
   "source": [
    "import matplotlib.pyplot as plt\n",
    "\n",
    "percentage = [30, 60, 60, 60, 70, 70, 80, 80, 80, 80, 80, 90, 90, 90, 90, 90, 90, 100, 100, 100, 100, 100, 100, 100, 100, 100, 100, 100, 100, 100, 100, 100, 100, 100, 100]\n",
    "new_weeks = list(range(1, len(weeks)+1))\n",
    "\n",
    "fig, ax = plt.subplots(figsize=(4, 3))\n",
    "ax.plot(new_weeks, percentage)\n",
    "ax.set_ylim([30,100])\n",
    "\n",
    "ax.set(xlabel='weeks', ylabel='percentage',\n",
    "       title='Similarity presets ontbijt')\n",
    "ax.grid()\n",
    "\n",
    "plt.tight_layout()\n",
    "plt.savefig('preset_ontbijt.png')\n",
    "\n",
    "plt.show()"
   ]
  },
  {
   "cell_type": "markdown",
   "metadata": {},
   "source": [
    "# Number of clicks evaluation\n"
   ]
  },
  {
   "cell_type": "markdown",
   "metadata": {},
   "source": [
    "## Gather days for evaluation"
   ]
  },
  {
   "cell_type": "markdown",
   "metadata": {},
   "source": [
    "Not every user has data for each day in order to calculate the number of clicks. Therefore for each user the days with input are searched for below. These days will be used to evaluate. "
   ]
  },
  {
   "cell_type": "code",
   "execution_count": 74,
   "metadata": {},
   "outputs": [],
   "source": [
    "def create_timeframes2(user, week):\n",
    "    df = evaluation_logging[user]\n",
    "    days_list = (df['intakeDay'].unique().tolist())\n",
    "    \n",
    "    x = days_list[week:]\n",
    "    index_split = df[df.intakeDay == x[0]].index.values[0]\n",
    "    final_df = df[index_split+1:]\n",
    "    return final_df"
   ]
  },
  {
   "cell_type": "markdown",
   "metadata": {},
   "source": [
    "I only used data from: 20334, 20373, 20477, 20486, 20491, 20503, 20629\n",
    "The other users did not have 70 days of data."
   ]
  },
  {
   "cell_type": "code",
   "execution_count": 77,
   "metadata": {},
   "outputs": [
    {
     "name": "stdout",
     "output_type": "stream",
     "text": [
      "ontbijt: ['6/16/2019', '6/16/2019', '6/19/2019', '6/21/2019', '6/27/2019', '6/28/2019']\n",
      "tussendoor ochtend ['6/16/2019', '6/17/2019', '6/19/2019', '6/21/2019', '6/23/2019', '6/26/2019', '6/27/2019', '6/28/2019', '6/30/2019', '7/7/2019']\n",
      "lunch: ['6/19/2019', '6/19/2019', '6/19/2019', '6/22/2019', '6/26/2019', '6/27/2019', '6/30/2019', '7/8/2019']\n",
      "tussendoor middag: ['6/17/2019', '6/19/2019', '6/19/2019', '6/23/2019', '6/26/2019', '6/27/2019', '6/27/2019', '6/28/2019', '7/9/2019']\n",
      "avondeten: ['6/15/2019', '6/19/2019', '6/25/2019', '6/27/2019']\n",
      "tussendoor avond: ['6/24/2019', '6/25/2019', '6/25/2019', '6/27/2019']\n"
     ]
    }
   ],
   "source": [
    "user = 20334\n",
    "\n",
    "df = create_timeframes2(user, 70)\n",
    "df = df.loc[((df['content'] == 'confirmation') & (df['type'] == 'advice')) | (df['type'] == 'advice') & (df['content'] == 'confirmation-changed') | (df['action'] == 'shown') & (df['type'] == 'advice')]\n",
    "\n",
    "times_list = []\n",
    "for index, row in df.iterrows():\n",
    "    if(row.intakeDay) == None:\n",
    "        times_list.append('None')\n",
    "    else:\n",
    "        val = row.value.split(':')[0]    \n",
    "        v = val.split('-')[0]\n",
    "        times_list.append(v)\n",
    "df['times'] = times_list\n",
    "df = df.loc[(df['content'] == 'confirmation')]\n",
    "\n",
    "times = df['times'].tolist()\n",
    "intakedays = df['intakeDay'].tolist()\n",
    "\n",
    "ontbijt = []\n",
    "tussendoor_ochtend = []\n",
    "lunch = []\n",
    "tussendoor_middag = []\n",
    "avondeten = []\n",
    "tussendoor_avond = []\n",
    "\n",
    "for i in range(len(times)):\n",
    "    if times[i] == 'Ontbijt':\n",
    "        ontbijt.append(intakedays[i])\n",
    "    if times[i] == 'Avondeten':\n",
    "        avondeten.append(intakedays[i])\n",
    "    if times[i] == 'Lunch':\n",
    "        lunch.append(intakedays[i])\n",
    "    if times[i] == 'Tussendoor ochtend':\n",
    "        tussendoor_ochtend.append(intakedays[i])\n",
    "    if times[i] == 'Tussendoor middag':\n",
    "        tussendoor_middag.append(intakedays[i])\n",
    "    if times[i] == 'Tussendoor avond':\n",
    "        tussendoor_avond.append(intakedays[i])\n",
    "        \n",
    "print('ontbijt:', ontbijt)\n",
    "print('tussendoor ochtend', tussendoor_ochtend)\n",
    "print('lunch:', lunch)\n",
    "print('tussendoor middag:', tussendoor_middag)\n",
    "print('avondeten:', avondeten)\n",
    "print('tussendoor avond:', tussendoor_avond)"
   ]
  },
  {
   "cell_type": "markdown",
   "metadata": {},
   "source": [
    "## Amount of clicks new application"
   ]
  },
  {
   "cell_type": "code",
   "execution_count": 73,
   "metadata": {},
   "outputs": [],
   "source": [
    "def recommended_and_chosen_meal(user, day, time_o_day):\n",
    "    df = evaluation_logging[user]\n",
    "    df = df.loc[((df['content'] == 'confirmation') & (df['type'] == 'advice')) | (df['type'] == 'advice') & (df['content'] == 'confirmation-changed') | (df['action'] == 'shown') & (df['type'] == 'advice')]\n",
    "\n",
    "    times_list = []\n",
    "    meal_list = []\n",
    "    for index, row in df.iterrows():\n",
    "        if(row.intakeDay) == None:\n",
    "            times_list.append('None')\n",
    "            meal_list.append(row.value)\n",
    "        else:\n",
    "            val = row.value.split(':')[0]    \n",
    "            v = val.split('-')[0]\n",
    "            times_list.append(v)\n",
    "            meal = row.value.split(':')[1]\n",
    "            meal_list.append(meal)\n",
    "    df['times'] = times_list\n",
    "    df['value'] = meal_list\n",
    "\n",
    "    confirmations = df.loc[(df['content'] == 'confirmation') & (df['intakeDay'] == day) & (df['times'] == time_o_day)]\n",
    "    id_chosen = confirmations['id'].tolist()\n",
    "    if id_chosen != []:\n",
    "        chosen_meal = df.loc[df['id'] == id_chosen[-1]].value.item()\n",
    "\n",
    "        con_changed = df.loc[(df['content'] == 'confirmation-changed') & (df['intakeDay'] == day) & (df['times'] == time_o_day) | (df['content'] == 'confirmation') & (df['intakeDay'] == day) & (df['times'] == time_o_day)]\n",
    "        id_changed = con_changed.index.tolist()[0]\n",
    "        shift_up = 1\n",
    "        while df.shift(shift_up)[df.index==id_changed].action.item() != 'shown':\n",
    "            shift_up +=1\n",
    "        shift_down = -1\n",
    "        while df.shift(shift_down)[df.index==id_changed].action.item() != 'shown' :\n",
    "            if df.shift(shift_down)[df.index==id_changed].action.item() == 'confirmation':\n",
    "                shift_up += 1\n",
    "                shift_down += -1\n",
    "            else:\n",
    "                shift_down += -1\n",
    "        recommended_meal = df.shift(shift_up)[df.index==id_changed].value.item()\n",
    "    else:\n",
    "        recommended_meal, chosen_meal = [], []\n",
    "    \n",
    "    return recommended_meal, chosen_meal\n",
    "\n",
    "\n",
    "def product_names(user, input_list):\n",
    "    result = []\n",
    "    combinations = input_list.split(',')\n",
    "    for combination in combinations:\n",
    "        ID = combination.split('-')[0]\n",
    "        df = all_protein_products[user]\n",
    "        result.append(df.loc[df['ID'] == int(ID)].name.item())\n",
    "    return result\n",
    "\n",
    "def product_categories(user, input_list):\n",
    "    result = []\n",
    "    for product in input_list:\n",
    "        df = all_protein_products[user]\n",
    "        result.append(df.loc[df['name'] == product].type.item())\n",
    "    return result"
   ]
  },
  {
   "cell_type": "code",
   "execution_count": 74,
   "metadata": {},
   "outputs": [],
   "source": [
    "import copy\n",
    "import random\n",
    "\n",
    "\n",
    "def get_clicks(user, day, time_o_day, recommended_meal):\n",
    "    rec_meal, chosen_meal = recommended_and_chosen_meal(user, day, time_o_day)\n",
    "    recommended_meal_names = recommended_meal\n",
    "    if chosen_meal != []:\n",
    "        chosen_meal_names = product_names(user, chosen_meal)\n",
    "        print(chosen_meal_names, 'chosen meal')\n",
    "        \n",
    "        same_products = []\n",
    "        for product in chosen_meal_names:\n",
    "            if product in recommended_meal_names:\n",
    "                same_products.append(product)\n",
    "                chosen_meal_names.remove(product)\n",
    "                recommended_meal_names.remove(product)\n",
    "        \n",
    "        recommended_meal_categories = product_categories(user, recommended_meal_names)\n",
    "        chosen_meal_categories = product_categories(user, chosen_meal_names)\n",
    "        \n",
    "        copy_rec_names = copy.copy(recommended_meal_names)\n",
    "        copy_cho_names = copy.copy(chosen_meal_names)\n",
    "\n",
    "        copy_rec = copy.copy(recommended_meal_categories)\n",
    "        copy_cho = copy.copy(chosen_meal_categories)\n",
    "\n",
    "        clicks = 0\n",
    "        for product in chosen_meal_categories:\n",
    "            if product in copy_rec:\n",
    "                index = copy_rec.index(product)\n",
    "                copy_rec_names.pop(index)\n",
    "                copy_rec.remove(product)\n",
    "\n",
    "                index2 = copy_cho.index(product)\n",
    "                copy_cho_names.pop(index2)\n",
    "                copy_cho.remove(product)\n",
    "                clicks += 2\n",
    "\n",
    "        clicks += len(copy_rec_names)\n",
    "        adviced_products = []\n",
    "        if len(copy_rec_names) >= 5:\n",
    "            k_len = 5\n",
    "        else:\n",
    "            k_len = len(copy_rec_names)\n",
    "        copy_rec_names = random.choices(copy_rec_names, k=k_len)\n",
    "        for name in copy_rec_names:\n",
    "            adviced_product = ass_rule_learning_algorithm(user, time_o_day, name)\n",
    "            adviced_products.extend(adviced_product)\n",
    "        for chosen_product in copy_cho_names:\n",
    "            if chosen_product in adviced_products:\n",
    "                clicks += 2\n",
    "            else:\n",
    "                clicks +=3\n",
    "\n",
    "    return clicks"
   ]
  },
  {
   "cell_type": "code",
   "execution_count": 75,
   "metadata": {},
   "outputs": [],
   "source": [
    "def first_meal(users, user, participant, preference, time_o_day, day):\n",
    "    if participant == 'old':\n",
    "        if time_o_day == 'Avondeten' or time_o_day == 'Tussendoor avond':\n",
    "            recommended_meal = protein_algorithm([user], user, [time_o_day], day, preference)\n",
    "        else:\n",
    "            recommended_meal = preset_algorithm(users, [user], time_o_day, participant, preference)\n",
    "    if participant == 'new':\n",
    "        if time_o_day == 'Avondeten' or time_o_day == 'Tussendoor avond':\n",
    "            recommended_meal = protein_algorithm(users, user, [time_o_day], day, preference)\n",
    "        else:\n",
    "            recommended_meal = preset_algorithm(users, users, time_o_day, participant, preference)\n",
    "    return recommended_meal"
   ]
  },
  {
   "cell_type": "code",
   "execution_count": 76,
   "metadata": {},
   "outputs": [],
   "source": [
    "def second_meal(users, user, participant, preference, time_o_day, day):\n",
    "    if participant == 'old':\n",
    "        recommended_meal = core_addition_algorithm(user, time_o_day, preference)\n",
    "    if participant == 'new':\n",
    "        if time_o_day == 'Avondeten' or time_o_day == 'Tussendoor avond':\n",
    "\n",
    "            recommended_meal = protein_algorithm(users, user, [time_o_day], day, preference)\n",
    "        else:\n",
    "            recommended_meal = preset_algorithm(users, users, time_o_day, participant, preference)\n",
    "    return recommended_meal\n"
   ]
  },
  {
   "cell_type": "code",
   "execution_count": 98,
   "metadata": {},
   "outputs": [
    {
     "name": "stdout",
     "output_type": "stream",
     "text": [
      "['Pindakaas, notenpasta, tahin', 'Boter, halvarine, margarine', 'Brood, gemiddeld', 'Thee', 'Ontbijtkoek'] recommended meal\n",
      "['Krentenbrood', 'Boter, halvarine, margarine', 'Thee', 'Brood, gemiddeld', 'Ei, gekookt of gebakken', 'Jam'] chosen meal\n",
      "Processing 9 combinations | Sampling itemset size 9876\n",
      "['Thee', 'Fruit', 'Jam', 'Zaden, diverse soorten', 'Sojamelk'] recommended meal\n",
      "['Krentenbrood', 'Boter, halvarine, margarine', 'Thee', 'Brood, gemiddeld', 'Ei, gekookt of gebakken', 'Jam'] chosen meal\n",
      "Processing 9 combinations | Sampling itemset size 9876\n",
      "Processing 9 combinations | Sampling itemset size 9876\n",
      "Processing 9 combinations | Sampling itemset size 9876\n",
      "[[11, 14]]\n",
      "['Boter, halvarine, margarine', 'Pindakaas, notenpasta, tahin', 'Brood, rogge', 'Thee', 'Ontbijtkoek'] recommended meal\n",
      "['Fruit', 'Thee', 'Yoghurt, gemiddeld, alle soorten', 'PROMISS eiwitpoeder', 'Ontbijtkoek'] chosen meal\n",
      "Processing 9 combinations | Sampling itemset size 9876\n",
      "no consequents\n",
      "Processing 9 combinations | Sampling itemset size 9876\n",
      "Processing 9 combinations | Sampling itemset size 9876\n",
      "no consequents\n",
      "['Thee', 'PROMISS eiwitpoeder', 'Boter, halvarine, margarine', 'Sojamelk', 'Krentenbol'] recommended meal\n",
      "['Fruit', 'Thee', 'Yoghurt, gemiddeld, alle soorten', 'PROMISS eiwitpoeder', 'Ontbijtkoek'] chosen meal\n",
      "Processing 9 combinations | Sampling itemset size 9876\n",
      "Processing 9 combinations | Sampling itemset size 9876\n",
      "Processing 9 combinations | Sampling itemset size 9876\n",
      "[[11, 14], [12, 12]]\n",
      "['Boter, halvarine, margarine', 'Honing', 'Brood, gemiddeld', 'Thee', 'Ontbijtkoek'] recommended meal\n",
      "['Fruit', 'Thee', 'Yoghurt, gemiddeld, alle soorten', 'PROMISS eiwitpoeder', 'Ontbijtkoek'] chosen meal\n",
      "Processing 9 combinations | Sampling itemset size 9876\n",
      "Processing 9 combinations | Sampling itemset size 9876\n",
      "Processing 9 combinations | Sampling itemset size 9876\n",
      "['Thee', 'PROMISS eiwitpoeder', 'Boter, halvarine, margarine', 'Sojamelk', 'Sojamelk light'] recommended meal\n",
      "['Fruit', 'Thee', 'Yoghurt, gemiddeld, alle soorten', 'PROMISS eiwitpoeder', 'Ontbijtkoek'] chosen meal\n",
      "Processing 9 combinations | Sampling itemset size 9876\n",
      "no consequents\n",
      "Processing 9 combinations | Sampling itemset size 9876\n",
      "Processing 9 combinations | Sampling itemset size 9876\n",
      "[[11, 14], [12, 12], [12, 11]]\n",
      "['Boter, halvarine, margarine', 'Honing', 'Brood, gemiddeld', 'Thee', 'Ontbijtkoek'] recommended meal\n",
      "['Fruit', 'Thee', 'PROMISS eiwitpoeder', 'Muesli', 'Zaden, diverse soorten'] chosen meal\n",
      "Processing 9 combinations | Sampling itemset size 9876\n",
      "Processing 9 combinations | Sampling itemset size 9876\n",
      "Processing 9 combinations | Sampling itemset size 9876\n",
      "Processing 9 combinations | Sampling itemset size 9876\n",
      "['Thee', 'PROMISS eiwitpoeder', 'Honing', 'Muesli', 'Krentenbol'] recommended meal\n",
      "['Fruit', 'Thee', 'PROMISS eiwitpoeder', 'Muesli', 'Zaden, diverse soorten'] chosen meal\n",
      "Processing 9 combinations | Sampling itemset size 9876\n",
      "Processing 9 combinations | Sampling itemset size 9876\n",
      "[[11, 14], [12, 12], [12, 11], [15, 9]]\n",
      "['Boter, halvarine, margarine', 'Jam', 'Brood, gemiddeld', 'Thee', 'Ontbijtkoek'] recommended meal\n",
      "['Fruit', 'Thee', 'PROMISS eiwitpoeder', 'Muesli', 'Zaden, diverse soorten'] chosen meal\n",
      "Processing 9 combinations | Sampling itemset size 9876\n",
      "Processing 9 combinations | Sampling itemset size 9876\n",
      "Processing 9 combinations | Sampling itemset size 9876\n",
      "Processing 9 combinations | Sampling itemset size 9876\n",
      "['Boter, halvarine, margarine', 'Fruit', 'PROMISS eiwitpoeder', 'Muesli', 'Krentenbrood'] recommended meal\n",
      "['Fruit', 'Thee', 'PROMISS eiwitpoeder', 'Muesli', 'Zaden, diverse soorten'] chosen meal\n",
      "Processing 9 combinations | Sampling itemset size 9876\n",
      "Processing 9 combinations | Sampling itemset size 9876\n",
      "[[11, 14], [12, 12], [12, 11], [15, 9], [13, 8]]\n",
      "['Boter, halvarine, margarine', 'Honing', 'Krentenbol', 'Thee', 'Ontbijtkoek'] recommended meal\n",
      "['Thee', 'Brood, gemiddeld', 'Boter, halvarine, margarine', 'Vleeswaren, mager (Kipfilet, Ham, Rookvlees, Rosbief etc.)', 'Stol met spijs', 'Ei, gekookt of gebakken'] chosen meal\n",
      "Processing 9 combinations | Sampling itemset size 9876\n",
      "['Muesli', 'Boter, halvarine, margarine', 'Thee', 'Fruit', 'Zaden, diverse soorten'] recommended meal\n",
      "['Thee', 'Brood, gemiddeld', 'Boter, halvarine, margarine', 'Vleeswaren, mager (Kipfilet, Ham, Rookvlees, Rosbief etc.)', 'Stol met spijs', 'Ei, gekookt of gebakken'] chosen meal\n",
      "Processing 9 combinations | Sampling itemset size 9876\n",
      "Processing 9 combinations | Sampling itemset size 9876\n",
      "Processing 9 combinations | Sampling itemset size 9876\n",
      "[[11, 14], [12, 12], [12, 11], [15, 9], [13, 8], [11, 15]]\n",
      "['Boter, halvarine, margarine', 'Appelstroop', 'Krentenbol', 'Thee', 'Ontbijtkoek'] recommended meal\n",
      "['Fruit', 'Thee', 'Boter, halvarine, margarine', 'PROMISS eiwitpoeder', 'Muesli', 'Zaden, diverse soorten', 'Sojamelk', 'Ontbijtkoek'] chosen meal\n",
      "Processing 9 combinations | Sampling itemset size 9876\n",
      "Processing 9 combinations | Sampling itemset size 9876\n",
      "['Boter, halvarine, margarine', 'Thee', 'Koffiebroodje', 'Muesli', 'Yoghurt, gemiddeld, alle soorten'] recommended meal\n",
      "['Fruit', 'Thee', 'Boter, halvarine, margarine', 'PROMISS eiwitpoeder', 'Muesli', 'Zaden, diverse soorten', 'Sojamelk', 'Ontbijtkoek'] chosen meal\n",
      "Processing 9 combinations | Sampling itemset size 9876\n",
      "Processing 9 combinations | Sampling itemset size 9876\n",
      "[[11, 14], [12, 12], [12, 11], [15, 9], [13, 8], [11, 15], [17, 18]]\n",
      "['Boter, halvarine, margarine', 'Vleeswaren, mager (Kipfilet, Ham, Rookvlees, Rosbief etc.)', 'Krentenbol', 'Thee', 'Ontbijtkoek'] recommended meal\n",
      "['Fruit', 'Thee', 'Boter, halvarine, margarine', 'Muesli', 'Zaden, diverse soorten', 'Krentenbol'] chosen meal\n",
      "Processing 9 combinations | Sampling itemset size 9876\n",
      "no consequents\n",
      "Processing 9 combinations | Sampling itemset size 9876\n",
      "['Muesli', 'Fruit', 'Thee', 'Sojamelk', 'Honing'] recommended meal\n",
      "['Fruit', 'Thee', 'Boter, halvarine, margarine', 'Muesli', 'Zaden, diverse soorten', 'Krentenbol'] chosen meal\n",
      "Processing 9 combinations | Sampling itemset size 9876\n",
      "[[11, 14], [12, 12], [12, 11], [15, 9], [13, 8], [11, 15], [17, 18], [13, 10]]\n",
      "['Boter, halvarine, margarine', 'Honing', 'Brood, gemiddeld', 'Thee', 'Ontbijtkoek'] recommended meal\n",
      "['Thee', 'Boter, halvarine, margarine', 'Krentenbol', 'Brood, gemiddeld', 'Ei, gekookt of gebakken', 'Vleeswaren, mager (Kipfilet, Ham, Rookvlees, Rosbief etc.)'] chosen meal\n",
      "Processing 9 combinations | Sampling itemset size 9876\n",
      "['Honing', 'Fruit', 'Thee', 'PROMISS eiwitpoeder', 'Krentenbrood'] recommended meal\n",
      "['Thee', 'Boter, halvarine, margarine', 'Krentenbol', 'Brood, gemiddeld', 'Ei, gekookt of gebakken', 'Vleeswaren, mager (Kipfilet, Ham, Rookvlees, Rosbief etc.)'] chosen meal\n",
      "Processing 9 combinations | Sampling itemset size 9876\n",
      "Processing 9 combinations | Sampling itemset size 9876\n",
      "[[11, 14], [12, 12], [12, 11], [15, 9], [13, 8], [11, 15], [17, 18], [13, 10], [11, 15]]\n",
      "['Honing', 'Boter, halvarine, margarine', 'Krentenbrood', 'Thee', 'Ontbijtkoek'] recommended meal\n",
      "['Thee', 'Boter, halvarine, margarine', 'Krentenbol', 'Brood, gemiddeld', 'Ei, gekookt of gebakken', 'Vleeswaren, mager (Kipfilet, Ham, Rookvlees, Rosbief etc.)'] chosen meal\n",
      "Processing 9 combinations | Sampling itemset size 9876\n",
      "['Boter, halvarine, margarine', 'Fruit', 'Zaden, diverse soorten', 'Sojamelk', 'Krentenbol'] recommended meal\n",
      "['Thee', 'Boter, halvarine, margarine', 'Krentenbol', 'Brood, gemiddeld', 'Ei, gekookt of gebakken', 'Vleeswaren, mager (Kipfilet, Ham, Rookvlees, Rosbief etc.)'] chosen meal\n",
      "Processing 9 combinations | Sampling itemset size 9876\n",
      "Processing 9 combinations | Sampling itemset size 9876\n",
      "[[11, 14], [12, 12], [12, 11], [15, 9], [13, 8], [11, 15], [17, 18], [13, 10], [11, 15], [13, 15]]\n",
      "['Boter, halvarine, margarine', 'Pindakaas, notenpasta, tahin', 'Brood, gemiddeld', 'Thee', 'Ontbijtkoek'] recommended meal\n",
      "['Thee', 'Boter, halvarine, margarine', 'Krentenbol', 'Brood, gemiddeld', 'Ei, gekookt of gebakken', 'Vleeswaren, mager (Kipfilet, Ham, Rookvlees, Rosbief etc.)'] chosen meal\n",
      "Processing 9 combinations | Sampling itemset size 9876\n",
      "['Muesli', 'Fruit', 'Boter, halvarine, margarine', 'Sojamelk', 'Thee'] recommended meal\n",
      "['Thee', 'Boter, halvarine, margarine', 'Krentenbol', 'Brood, gemiddeld', 'Ei, gekookt of gebakken', 'Vleeswaren, mager (Kipfilet, Ham, Rookvlees, Rosbief etc.)'] chosen meal\n"
     ]
    },
    {
     "name": "stdout",
     "output_type": "stream",
     "text": [
      "Processing 9 combinations | Sampling itemset size 9876\n",
      "Processing 9 combinations | Sampling itemset size 9876\n",
      "Processing 9 combinations | Sampling itemset size 9876\n",
      "[[11, 14], [12, 12], [12, 11], [15, 9], [13, 8], [11, 15], [17, 18], [13, 10], [11, 15], [13, 15], [11, 16]]\n",
      "['Boter, halvarine, margarine', 'Pindakaas, notenpasta, tahin', 'Krentenbol', 'Thee', 'Ontbijtkoek'] recommended meal\n",
      "['Boter, halvarine, margarine', 'Brood, gemiddeld', 'Kaas, 48+, harde, gemiddeld', 'Krentenbol'] chosen meal\n",
      "Processing 9 combinations | Sampling itemset size 9876\n",
      "Processing 9 combinations | Sampling itemset size 9876\n",
      "['Boter, halvarine, margarine', 'Thee', 'Yoghurt, gemiddeld, alle soorten', 'Chocoladehagelslag, -vlokken, -pasta', 'Brood, gemiddeld'] recommended meal\n",
      "['Boter, halvarine, margarine', 'Brood, gemiddeld', 'Kaas, 48+, harde, gemiddeld', 'Krentenbol'] chosen meal\n",
      "Processing 9 combinations | Sampling itemset size 9876\n",
      "Processing 9 combinations | Sampling itemset size 9876\n",
      "[[11, 14], [12, 12], [12, 11], [15, 9], [13, 8], [11, 15], [17, 18], [13, 10], [11, 15], [13, 15], [11, 16], [7, 9]]\n",
      "['Boter, halvarine, margarine', 'Appelstroop', 'Krentenbrood', 'Thee', 'Ontbijtkoek'] recommended meal\n",
      "['Boter, halvarine, margarine', 'Brood, gemiddeld', 'Kaas, 48+, harde, gemiddeld', 'Krentenbol'] chosen meal\n",
      "Processing 9 combinations | Sampling itemset size 9876\n",
      "Processing 9 combinations | Sampling itemset size 9876\n",
      "['Zaden, diverse soorten', 'Thee', 'PROMISS eiwitpoeder', 'Boter, halvarine, margarine', 'Sojamelk light'] recommended meal\n",
      "['Boter, halvarine, margarine', 'Brood, gemiddeld', 'Kaas, 48+, harde, gemiddeld', 'Krentenbol'] chosen meal\n",
      "Processing 9 combinations | Sampling itemset size 9876\n",
      "Processing 9 combinations | Sampling itemset size 9876\n",
      "Processing 9 combinations | Sampling itemset size 9876\n",
      "Processing 9 combinations | Sampling itemset size 9876\n",
      "[[11, 14], [12, 12], [12, 11], [15, 9], [13, 8], [11, 15], [17, 18], [13, 10], [11, 15], [13, 15], [11, 16], [7, 9], [9, 12]]\n",
      "['Honing', 'Boter, halvarine, margarine', 'Brood, gemiddeld', 'Thee', 'Ontbijtkoek'] recommended meal\n",
      "['Fruit', 'Thee', 'Boter, halvarine, margarine', 'PROMISS eiwitpoeder', 'Zaden, diverse soorten', 'Muesli', 'Sojamelk'] chosen meal\n",
      "Processing 9 combinations | Sampling itemset size 9876\n",
      "Processing 9 combinations | Sampling itemset size 9876\n",
      "Processing 9 combinations | Sampling itemset size 9876\n",
      "['Thee', 'PROMISS eiwitpoeder', 'Appelstroop', 'Boter, halvarine, margarine', 'Zaden, diverse soorten'] recommended meal\n",
      "['Fruit', 'Thee', 'Boter, halvarine, margarine', 'PROMISS eiwitpoeder', 'Zaden, diverse soorten', 'Muesli', 'Sojamelk'] chosen meal\n",
      "Processing 9 combinations | Sampling itemset size 9876\n",
      "[[11, 14], [12, 12], [12, 11], [15, 9], [13, 8], [11, 15], [17, 18], [13, 10], [11, 15], [13, 15], [11, 16], [7, 9], [9, 12], [17, 14]]\n",
      "['Boter, halvarine, margarine', 'Honing', 'Koffiebroodje', 'Thee', 'Ontbijtkoek'] recommended meal\n",
      "['Fruit', 'Thee', 'PROMISS eiwitpoeder', 'Zaden, diverse soorten', 'Sojamelk', 'Muesli'] chosen meal\n",
      "Processing 9 combinations | Sampling itemset size 9876\n",
      "Processing 9 combinations | Sampling itemset size 9876\n",
      "Processing 9 combinations | Sampling itemset size 9876\n",
      "Processing 9 combinations | Sampling itemset size 9876\n",
      "['Boter, halvarine, margarine', 'PROMISS eiwitpoeder', 'Yoghurt, gemiddeld, alle soorten', 'Fruit', 'Muesli'] recommended meal\n",
      "['Fruit', 'Thee', 'PROMISS eiwitpoeder', 'Zaden, diverse soorten', 'Sojamelk', 'Muesli'] chosen meal\n",
      "Processing 9 combinations | Sampling itemset size 9876\n",
      "Processing 9 combinations | Sampling itemset size 9876\n",
      "[[11, 14], [12, 12], [12, 11], [15, 9], [13, 8], [11, 15], [17, 18], [13, 10], [11, 15], [13, 15], [11, 16], [7, 9], [9, 12], [17, 14], [17, 9]]\n"
     ]
    }
   ],
   "source": [
    "days = ontbijt\n",
    "clicks = []\n",
    "\n",
    "user = 20334\n",
    "for day in days:\n",
    "    time_o_day = 'Ontbijt'\n",
    "    users = [20197, 20251, 20334, 20373, 20477, 20486, 20491, 20503, 20614, 20629, 20683]\n",
    "    participant = 'old'\n",
    "    preference = 'all'\n",
    "\n",
    "    recommended_meal_1 = first_meal(users, user, participant, preference, time_o_day, day)\n",
    "    print(recommended_meal_1, 'recommended meal')\n",
    "    click = get_clicks(user, day, time_o_day, recommended_meal_1)\n",
    "\n",
    "    recommended_meal_2 = second_meal(users, user, participant, preference, time_o_day, day)\n",
    "    print(recommended_meal_2, 'recommended meal')\n",
    "    click2 = get_clicks(user, day, time_o_day, recommended_meal_2)\n",
    "    clicks.append([click, click2])\n",
    "    print(clicks)\n"
   ]
  },
  {
   "cell_type": "markdown",
   "metadata": {},
   "source": [
    "Below the number of clicks for each meal for each day can be seen for the new application. There are two different clicks, one for the first recommended meal and one from the second. For evaluation the lowest number of clicks will be used."
   ]
  },
  {
   "cell_type": "code",
   "execution_count": 140,
   "metadata": {},
   "outputs": [
    {
     "name": "stdout",
     "output_type": "stream",
     "text": [
      "[[11, 14], [12, 12], [12, 11], [15, 9], [13, 8], [11, 15], [17, 18], [13, 10], [11, 15], [13, 15], [11, 16], [7, 9], [9, 12], [17, 14], [17, 9]]\n"
     ]
    }
   ],
   "source": [
    "print(clicks)"
   ]
  },
  {
   "cell_type": "markdown",
   "metadata": {},
   "source": [
    "## Amount of clicks old application"
   ]
  },
  {
   "cell_type": "markdown",
   "metadata": {},
   "source": [
    "When content is confirmation, you know that an user entered a meal in the meal composer. The user can enter the adviced meal, or switch products from the adviced meal to get the meal they want. Whether the user enters the adviced meal or the adjusted meal, the amount of clicks is different. Therefore we need the adviced meal and the final meal entered in the application.\n",
    "\n",
    "You can find the final meal entered in the application when content=confirmation. Sometimes the user enters multiple meals for the same time of the day, but most of the time this is not correct, so we just use the last entered meal for the same time of the day.\n",
    "\n",
    "You can find the adviced meal where action=shown & type=advice. However this constantly changes when the user adjust products from the adviced meal, so how do we know which row is the first adviced meal? We look at the rows where content=confirmation-changed. We look at the row where type=advice just above the first content=confirmation-changed for the specific time of the day. This is the adviced meal.\n",
    "\n",
    "Then we have 2 lists, the recommended_meal and the adviced_meal, we delete the products that are in both lists, since this does not cost any clicks. If a product is not the same but is from the same category, then it costs 2 clicks. The rest costs 4 clicks."
   ]
  },
  {
   "cell_type": "code",
   "execution_count": 104,
   "metadata": {},
   "outputs": [],
   "source": [
    "def get_clicks2(user, day, time_o_day):\n",
    "    recommended_meal, chosen_meal = recommended_and_chosen_meal(user, day, time_o_day)\n",
    "    recommended_meal_names = product_names(20197, recommended_meal)\n",
    "    chosen_meal_names = product_names(20197, chosen_meal)\n",
    "    if chosen_meal != []:\n",
    "        recommended_meal_names = product_names(20197, recommended_meal)\n",
    "        chosen_meal_names = product_names(20197, chosen_meal)\n",
    "        print(recommended_meal_names, 'recommended meal', '\\n')\n",
    "        print(chosen_meal_names, 'chosen meal')\n",
    "        \n",
    "        same_products = []\n",
    "        for product in chosen_meal_names:\n",
    "            if product in recommended_meal_names:\n",
    "                same_products.append(product)\n",
    "        for i in (same_products):\n",
    "            chosen_meal_names.remove(i)\n",
    "            recommended_meal_names.remove(i)\n",
    "\n",
    "        recommended_meal_categories = product_categories(user, recommended_meal_names)\n",
    "        chosen_meal_categories = product_categories(user, chosen_meal_names)\n",
    "        \n",
    "        copy_rec_names = copy.copy(recommended_meal_names)\n",
    "        copy_cho_names = copy.copy(chosen_meal_names)\n",
    "\n",
    "        copy_rec = copy.copy(recommended_meal_categories)\n",
    "        copy_cho = copy.copy(chosen_meal_categories)\n",
    "\n",
    "        clicks = 0\n",
    "        for product in chosen_meal_categories:\n",
    "            if product in copy_rec:\n",
    "                index = copy_rec.index(product)\n",
    "                copy_rec_names.pop(index)\n",
    "                copy_rec.remove(product)\n",
    "\n",
    "                index2 = copy_cho.index(product)\n",
    "                copy_cho_names.pop(index2)\n",
    "                copy_cho.remove(product)\n",
    "                clicks += 2\n",
    "        print(clicks)\n",
    "        clicks += len(copy_rec_names)\n",
    "        clicks += len(copy_cho_names)*3\n",
    "        print(clicks)\n",
    "    return clicks\n"
   ]
  },
  {
   "cell_type": "markdown",
   "metadata": {},
   "source": [
    "Here i use the lists with days that the user has filled in a meal for a specific time of the day. I gather the lists using the cell below: Gather days for evaluation  \n",
    "\n",
    "I did this for each user and for each eating moment, below it can be seen for the eating moment 'ontbijt' and the user 20491\n",
    "\n",
    "The output is the recommended meal, the chosen meal the day and the number of clicks. "
   ]
  },
  {
   "cell_type": "code",
   "execution_count": 113,
   "metadata": {
    "scrolled": false
   },
   "outputs": [
    {
     "name": "stdout",
     "output_type": "stream",
     "text": [
      "['Krentenbrood', 'Boter, halvarine, margarine', 'Muesli', 'Sojamelk light', 'Sojamelk', 'Fruit', 'Thee', 'Ontbijtkoek', 'Koffiebroodje', 'Brood, gemiddeld', 'Yoghurt, gemiddeld, alle soorten', 'PROMISS eiwitpoeder', 'Appelstroop', 'Zaden, diverse soorten', 'Pindakaas, notenpasta, tahin', 'PROMISS eiwitpoeder', 'Ei, gekookt of gebakken', 'Jam', 'Chocoladehagelslag, -vlokken, -pasta', 'Kaas, 48+, harde, gemiddeld', 'Yoghurt, gemiddeld, alle soorten', 'Vleeswaren, mager (Kipfilet, Ham, Rookvlees, Rosbief etc.)'] recommended meal \n",
      "\n",
      "['Krentenbrood', 'Boter, halvarine, margarine', 'Thee', 'Brood, gemiddeld', 'Ei, gekookt of gebakken', 'Jam'] chosen meal\n",
      "0\n",
      "16\n",
      "['Fruit', 'Thee', 'Krentenbol', 'Broodje, hard'] recommended meal \n",
      "\n",
      "['Fruit', 'Thee', 'Yoghurt, gemiddeld, alle soorten', 'PROMISS eiwitpoeder', 'Ontbijtkoek'] chosen meal\n",
      "0\n",
      "11\n",
      "['Fruit', 'Thee', 'Krentenbol', 'Broodje, hard'] recommended meal \n",
      "\n",
      "['Fruit', 'Thee', 'Yoghurt, gemiddeld, alle soorten', 'PROMISS eiwitpoeder', 'Ontbijtkoek'] chosen meal\n",
      "0\n",
      "11\n",
      "['Fruit', 'Thee', 'PROMISS eiwitpoeder'] recommended meal \n",
      "\n",
      "['Fruit', 'Thee', 'PROMISS eiwitpoeder', 'Muesli', 'Zaden, diverse soorten'] chosen meal\n",
      "0\n",
      "6\n",
      "['Fruit', 'Thee', 'PROMISS eiwitpoeder'] recommended meal \n",
      "\n",
      "['Fruit', 'Thee', 'PROMISS eiwitpoeder', 'Muesli', 'Zaden, diverse soorten'] chosen meal\n",
      "0\n",
      "6\n",
      "['Koffie', 'Koek, gemiddeld klein', 'Appelflap'] recommended meal \n",
      "\n",
      "['Thee', 'Brood, gemiddeld', 'Boter, halvarine, margarine', 'Vleeswaren, mager (Kipfilet, Ham, Rookvlees, Rosbief etc.)', 'Stol met spijs', 'Ei, gekookt of gebakken'] chosen meal\n",
      "2\n",
      "19\n",
      "['Fruit', 'Thee', 'Brood, gemiddeld', 'Boter, halvarine, margarine', 'PROMISS eiwitpoeder', 'Stol met spijs', 'Ei, gekookt of gebakken', 'Appelstroop', 'Vleeswaren, mager (Kipfilet, Ham, Rookvlees, Rosbief etc.)'] recommended meal \n",
      "\n",
      "['Fruit', 'Thee', 'Boter, halvarine, margarine', 'PROMISS eiwitpoeder', 'Muesli', 'Zaden, diverse soorten', 'Sojamelk', 'Ontbijtkoek'] chosen meal\n",
      "0\n",
      "17\n",
      "['Fruit', 'Thee', 'Boter, halvarine, margarine', 'PROMISS eiwitpoeder', 'Muesli', 'Zaden, diverse soorten', 'Sojamelk', 'Krentenbol', 'Jam', 'Brood, gemiddeld', 'Ontbijtkoek'] recommended meal \n",
      "\n",
      "['Fruit', 'Thee', 'Boter, halvarine, margarine', 'Muesli', 'Zaden, diverse soorten', 'Krentenbol'] chosen meal\n",
      "0\n",
      "5\n",
      "['Fruit', 'Thee', 'Boter, halvarine, margarine', 'PROMISS eiwitpoeder', 'Muesli', 'Zaden, diverse soorten', 'Krentenbol', 'Ontbijtkoek'] recommended meal \n",
      "\n",
      "['Thee', 'Boter, halvarine, margarine', 'Krentenbol', 'Brood, gemiddeld', 'Ei, gekookt of gebakken', 'Vleeswaren, mager (Kipfilet, Ham, Rookvlees, Rosbief etc.)'] chosen meal\n",
      "0\n",
      "14\n",
      "['Fruit', 'Thee', 'Boter, halvarine, margarine', 'PROMISS eiwitpoeder', 'Muesli', 'Zaden, diverse soorten', 'Krentenbol', 'Ontbijtkoek'] recommended meal \n",
      "\n",
      "['Thee', 'Boter, halvarine, margarine', 'Krentenbol', 'Brood, gemiddeld', 'Ei, gekookt of gebakken', 'Vleeswaren, mager (Kipfilet, Ham, Rookvlees, Rosbief etc.)'] chosen meal\n",
      "0\n",
      "14\n",
      "['Fruit', 'Thee', 'Boter, halvarine, margarine', 'PROMISS eiwitpoeder', 'Muesli', 'Zaden, diverse soorten', 'Krentenbol', 'Ontbijtkoek'] recommended meal \n",
      "\n",
      "['Thee', 'Boter, halvarine, margarine', 'Krentenbol', 'Brood, gemiddeld', 'Ei, gekookt of gebakken', 'Vleeswaren, mager (Kipfilet, Ham, Rookvlees, Rosbief etc.)'] chosen meal\n",
      "0\n",
      "14\n",
      "['Fruit', 'Thee', 'Boter, halvarine, margarine', 'PROMISS eiwitpoeder', 'Muesli', 'Zaden, diverse soorten', 'Krentenbol', 'Jam', 'Brood, gemiddeld', 'Ontbijtkoek'] recommended meal \n",
      "\n",
      "['Boter, halvarine, margarine', 'Brood, gemiddeld', 'Kaas, 48+, harde, gemiddeld', 'Krentenbol'] chosen meal\n",
      "2\n",
      "8\n",
      "['Fruit', 'Thee', 'Boter, halvarine, margarine', 'PROMISS eiwitpoeder', 'Muesli', 'Zaden, diverse soorten', 'Krentenbol', 'Jam', 'Brood, gemiddeld', 'Ontbijtkoek'] recommended meal \n",
      "\n",
      "['Boter, halvarine, margarine', 'Brood, gemiddeld', 'Kaas, 48+, harde, gemiddeld', 'Krentenbol'] chosen meal\n",
      "2\n",
      "8\n",
      "['Fruit', 'Thee', 'Boter, halvarine, margarine', 'PROMISS eiwitpoeder', 'Muesli', 'Zaden, diverse soorten'] recommended meal \n",
      "\n",
      "['Fruit', 'Thee', 'Boter, halvarine, margarine', 'PROMISS eiwitpoeder', 'Zaden, diverse soorten', 'Muesli', 'Sojamelk'] chosen meal\n",
      "0\n",
      "3\n",
      "['Fruit', 'Thee', 'Boter, halvarine, margarine', 'PROMISS eiwitpoeder', 'Zaden, diverse soorten', 'Fruit', 'Sojamelk', 'Krentenbol', 'Brood, gemiddeld', 'Muesli', 'Vleeswaren, mager (Kipfilet, Ham, Rookvlees, Rosbief etc.)', 'Ei, gekookt of gebakken'] recommended meal \n",
      "\n",
      "['Fruit', 'Thee', 'PROMISS eiwitpoeder', 'Zaden, diverse soorten', 'Sojamelk', 'Muesli'] chosen meal\n",
      "0\n",
      "6\n"
     ]
    }
   ],
   "source": [
    "user = 20334\n",
    "time_o_day = 'Ontbijt'\n",
    "days = ontbijt\n",
    "old_clicks = []\n",
    "for day in days:\n",
    "    click3 = get_clicks2(user, day, time_o_day)\n",
    "    old_clicks.append(click3)"
   ]
  },
  {
   "cell_type": "markdown",
   "metadata": {},
   "source": [
    "Below the number of clicks for breakfast for each day can be seen for the old application. This can now be compared to the list from the new application."
   ]
  },
  {
   "cell_type": "code",
   "execution_count": 114,
   "metadata": {},
   "outputs": [
    {
     "name": "stdout",
     "output_type": "stream",
     "text": [
      "[16, 11, 11, 6, 6, 19, 17, 5, 14, 14, 14, 8, 8, 3, 6]\n"
     ]
    }
   ],
   "source": [
    "print(old_clicks)"
   ]
  },
  {
   "cell_type": "markdown",
   "metadata": {},
   "source": [
    "## Evaluation: T-test + P-value"
   ]
  },
  {
   "cell_type": "markdown",
   "metadata": {},
   "source": [
    "Get a list for the clicks for the old applicatin, the new application using 2 meals, and the new application using three meals. Put all the clicks from all users in a list and then calculate the t-test and the p-value."
   ]
  },
  {
   "cell_type": "code",
   "execution_count": 141,
   "metadata": {},
   "outputs": [
    {
     "name": "stdout",
     "output_type": "stream",
     "text": [
      "[11, 12, 11, 9, 8, 11, 17, 10, 11, 13, 11, 7, 9, 14, 9]\n",
      "[16, 11, 11, 6, 6, 19, 17, 5, 14, 14, 14, 8, 8, 3, 6]\n"
     ]
    }
   ],
   "source": [
    "new_clicks_2meals = []\n",
    "for i in clicks:\n",
    "    new_clicks_2meals.append(min(i))\n",
    "    \n",
    "print(new_clicks_2meals)\n",
    "print(old_clicks)"
   ]
  },
  {
   "cell_type": "code",
   "execution_count": 142,
   "metadata": {},
   "outputs": [
    {
     "name": "stdout",
     "output_type": "stream",
     "text": [
      "[11, 11, 11, 6, 6, 11, 17, 5, 11, 13, 11, 7, 8, 3, 6]\n"
     ]
    }
   ],
   "source": [
    "meals_3 = []\n",
    "for j in range(len(clicks)):\n",
    "    meals_3.append([clicks[j][0], clicks[j][1], old_clicks[j]])\n",
    "\n",
    "new_clicks_3meals = []\n",
    "for i in meals_3:\n",
    "    new_clicks_3meals.append(min(i))\n",
    "\n",
    "print(new_clicks_3meals)                              "
   ]
  },
  {
   "cell_type": "code",
   "execution_count": 146,
   "metadata": {},
   "outputs": [],
   "source": [
    "#Gather here all clicks for each user for a specific eating moment, know I only added the lists from the breakfast \n",
    "#from user 20334\n",
    "\n",
    "old = [16, 11, 11, 6, 6, 19, 17, 5, 14, 14, 14, 8, 8, 3, 6]\n",
    "new2 = [11, 12, 11, 9, 8, 11, 17, 10, 11, 13, 11, 7, 9, 14, 9]\n",
    "new3 = [11, 11, 11, 6, 6, 11, 17, 5, 11, 13, 11, 7, 8, 3, 6]"
   ]
  },
  {
   "cell_type": "code",
   "execution_count": 147,
   "metadata": {},
   "outputs": [
    {
     "name": "stdout",
     "output_type": "stream",
     "text": [
      "Ttest_indResult(statistic=-0.23309001076869257, pvalue=0.8173870983189894)\n",
      "Ttest_indResult(statistic=0.8816949862929886, pvalue=0.3854482409627078)\n"
     ]
    }
   ],
   "source": [
    "from scipy import stats\n",
    "import numpy as np\n",
    "\n",
    "print(stats.ttest_ind(old,new2))\n",
    "print(stats.ttest_ind(old,new3))"
   ]
  },
  {
   "cell_type": "code",
   "execution_count": 148,
   "metadata": {},
   "outputs": [
    {
     "name": "stdout",
     "output_type": "stream",
     "text": [
      "4.940599539481399\n",
      "2.503331114069145\n",
      "3.6619016657365075\n"
     ]
    }
   ],
   "source": [
    "import statistics\n",
    "print(statistics.stdev(old))\n",
    "print(statistics.stdev(new2))\n",
    "print(statistics.stdev(new3))"
   ]
  },
  {
   "cell_type": "code",
   "execution_count": null,
   "metadata": {},
   "outputs": [],
   "source": []
  }
 ],
 "metadata": {
  "kernelspec": {
   "display_name": "Python 3",
   "language": "python",
   "name": "python3"
  },
  "language_info": {
   "codemirror_mode": {
    "name": "ipython",
    "version": 3
   },
   "file_extension": ".py",
   "mimetype": "text/x-python",
   "name": "python",
   "nbconvert_exporter": "python",
   "pygments_lexer": "ipython3",
   "version": "3.7.6"
  }
 },
 "nbformat": 4,
 "nbformat_minor": 4
}
